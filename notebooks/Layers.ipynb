{
 "cells": [
  {
   "cell_type": "markdown",
   "metadata": {},
   "source": [
    "# Layers\n",
    "\n",
    "The REST API allows you to list, create, upload, update, and delete layers in GeoServer.\n",
    "\n",
    "> **Note:** <br> \n",
    "> You can find the official example at [https://docs.geoserver.org/2.25.x/en/user/rest/layers.html](https://docs.geoserver.org/2.25.x/en/user/rest/layers.html)"
   ]
  },
  {
   "cell_type": "markdown",
   "metadata": {},
   "source": [
    "## Setup\n",
    "\n",
    "### Imports\n",
    "\n",
    "First, we need to import the necessary modules and classes."
   ]
  },
  {
   "cell_type": "code",
   "execution_count": 1,
   "metadata": {},
   "outputs": [],
   "source": [
    "from pathlib import Path\n",
    "from geoserver import GeoServer"
   ]
  },
  {
   "cell_type": "markdown",
   "metadata": {},
   "source": [
    "### GeoServer Connection\n",
    "\n",
    "Connect to the running GeoServer instance and create a workspace and a store."
   ]
  },
  {
   "cell_type": "code",
   "execution_count": 2,
   "metadata": {},
   "outputs": [],
   "source": [
    "# Setup the geoserver instance\n",
    "geoserver = GeoServer(\n",
    "    service_url=\"http://localhost:8080/geoserver\",\n",
    "    username=\"admin\",\n",
    "    password=\"geoserver\",\n",
    ")"
   ]
  },
  {
   "cell_type": "markdown",
   "metadata": {},
   "source": [
    "Clean up the workspace and store after running the examples."
   ]
  },
  {
   "cell_type": "code",
   "execution_count": 3,
   "metadata": {},
   "outputs": [
    {
     "data": {
      "text/plain": [
       "'Created'"
      ]
     },
     "execution_count": 3,
     "metadata": {},
     "output_type": "execute_result"
    }
   ],
   "source": [
    "if geoserver.workspace_exists(\"demo\"):\n",
    "    geoserver.delete_workspace(\"demo\", recurse=True)\n",
    "\n",
    "geoserver.create_workspace_from_name(\"demo\")"
   ]
  },
  {
   "cell_type": "markdown",
   "metadata": {},
   "source": [
    "### Config\n",
    "\n",
    "We'll set up the configuration for the notebook:"
   ]
  },
  {
   "cell_type": "code",
   "execution_count": 4,
   "metadata": {},
   "outputs": [],
   "source": [
    "# Directory containing sample data\n",
    "DATA_DIR = Path(\"../tests/data\")\n",
    "assert DATA_DIR.exists(), f\"The directory {DATA_DIR} does not exist.\""
   ]
  },
  {
   "cell_type": "markdown",
   "metadata": {},
   "source": [
    "## Adding a Layer\n",
    "\n",
    "Usually you should setup a layer using the `upload_data_store` method for feature-based layers or the `upload_coverage_store` method for raster-based layers."
   ]
  },
  {
   "cell_type": "code",
   "execution_count": 5,
   "metadata": {},
   "outputs": [
    {
     "data": {
      "text/plain": [
       "'Created'"
      ]
     },
     "execution_count": 5,
     "metadata": {},
     "output_type": "execute_result"
    }
   ],
   "source": [
    "file_path = DATA_DIR / \"vectors\" / \"buildings.shp\"\n",
    "assert file_path.exists(), f\"File not found: {file_path.as_posix()!r}\"\n",
    "\n",
    "\n",
    "geoserver.upload_data_store(workspace=\"demo\", file=file_path)"
   ]
  },
  {
   "cell_type": "markdown",
   "metadata": {},
   "source": [
    "## Listing all layers\n",
    "\n",
    "To list all layers in GeoServer, use the `get_layers` method. You can specify the response format as JSON or XML (default to JSON)."
   ]
  },
  {
   "cell_type": "code",
   "execution_count": 6,
   "metadata": {},
   "outputs": [
    {
     "data": {
      "text/plain": [
       "{'layers': {'layer': [{'name': 'buildings',\n",
       "    'href': 'http://localhost:8080/geoserver/rest/workspaces/demo/layers/buildings.json'}]}}"
      ]
     },
     "execution_count": 6,
     "metadata": {},
     "output_type": "execute_result"
    }
   ],
   "source": [
    "geoserver.get_layers(workspace=\"demo\")"
   ]
  },
  {
   "cell_type": "code",
   "execution_count": 7,
   "metadata": {},
   "outputs": [
    {
     "name": "stdout",
     "output_type": "stream",
     "text": [
      "<layers>\n",
      "  <layer>\n",
      "    <name>buildings</name>\n",
      "    <atom:link xmlns:atom=\"http://www.w3.org/2005/Atom\" rel=\"alternate\" href=\"http://localhost:8080/geoserver/rest/workspaces/demo/layers/buildings.xml\" type=\"application/atom+xml\"/>\n",
      "  </layer>\n",
      "</layers>\n"
     ]
    }
   ],
   "source": [
    "xml = geoserver.get_layers(workspace=\"demo\", format=\"xml\")\n",
    "print(xml)"
   ]
  },
  {
   "cell_type": "markdown",
   "metadata": {},
   "source": [
    "## Retrieve a layer\n",
    "\n",
    "To retrieve a layer, use the `get_layer` method. You must specify the layer name."
   ]
  },
  {
   "cell_type": "code",
   "execution_count": 8,
   "metadata": {},
   "outputs": [
    {
     "data": {
      "text/plain": [
       "{'layer': {'name': 'buildings',\n",
       "  'type': 'VECTOR',\n",
       "  'defaultStyle': {'name': 'polygon',\n",
       "   'href': 'http://localhost:8080/geoserver/rest/styles/polygon.json'},\n",
       "  'resource': {'@class': 'featureType',\n",
       "   'name': 'demo:buildings',\n",
       "   'href': 'http://localhost:8080/geoserver/rest/workspaces/demo/datastores/buildings/featuretypes/buildings.json'},\n",
       "  'attribution': {'logoWidth': 0, 'logoHeight': 0},\n",
       "  'dateCreated': '2024-06-10 20:11:37.186 UTC'}}"
      ]
     },
     "execution_count": 8,
     "metadata": {},
     "output_type": "execute_result"
    }
   ],
   "source": [
    "geoserver.get_layer(workspace=\"demo\", layer=\"buildings\")"
   ]
  },
  {
   "cell_type": "markdown",
   "metadata": {},
   "source": [
    "## Changing a layer\n",
    "\n",
    "To update a layer, use the `update_layer` method. You must specify the layer name and the new layer configuration."
   ]
  },
  {
   "cell_type": "code",
   "execution_count": 9,
   "metadata": {},
   "outputs": [
    {
     "data": {
      "text/plain": [
       "'Updated'"
      ]
     },
     "execution_count": 9,
     "metadata": {},
     "output_type": "execute_result"
    }
   ],
   "source": [
    "# Using JSON format\n",
    "body = {\n",
    "    \"layer\": {\n",
    "        \"defaultStyle\": {\"name\": \"polygon\"},\n",
    "    }\n",
    "}\n",
    "\n",
    "# Using XML format\n",
    "body = \"\"\"\n",
    "<layer>\n",
    "    <defaultStyle>\n",
    "        <name>polygon</name>\n",
    "    </defaultStyle>\n",
    "</layer>\n",
    "\"\"\"\n",
    "\n",
    "geoserver.update_layer(workspace=\"demo\", layer=\"buildings\", body=body)"
   ]
  },
  {
   "cell_type": "markdown",
   "metadata": {},
   "source": []
  }
 ],
 "metadata": {
  "kernelspec": {
   "display_name": ".venv",
   "language": "python",
   "name": "python3"
  },
  "language_info": {
   "codemirror_mode": {
    "name": "ipython",
    "version": 3
   },
   "file_extension": ".py",
   "mimetype": "text/x-python",
   "name": "python",
   "nbconvert_exporter": "python",
   "pygments_lexer": "ipython3",
   "version": "3.12.2"
  }
 },
 "nbformat": 4,
 "nbformat_minor": 2
}
