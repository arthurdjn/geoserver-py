{
 "cells": [
  {
   "cell_type": "markdown",
   "metadata": {},
   "source": [
    "# Workspaces\n",
    "\n",
    "The REST API allows you to create and manage workspaces in GeoServer.\n",
    "\n",
    "> **Note:** <br> \n",
    "> You can find the official example at [https://docs.geoserver.org/2.25.x/en/user/rest/workspaces.html](https://docs.geoserver.org/2.25.x/en/user/rest/workspaces.html)"
   ]
  },
  {
   "cell_type": "markdown",
   "metadata": {},
   "source": [
    "## Setup\n",
    "\n",
    "### Imports\n",
    "\n",
    "First, we need to import the necessary modules and classes."
   ]
  },
  {
   "cell_type": "code",
   "execution_count": 1,
   "metadata": {},
   "outputs": [],
   "source": [
    "from geoserver import GeoServer"
   ]
  },
  {
   "cell_type": "markdown",
   "metadata": {},
   "source": [
    "### GeoServer Connection\n",
    "\n",
    "Connect to the running GeoServer instance and create a workspace and a store."
   ]
  },
  {
   "cell_type": "code",
   "execution_count": 2,
   "metadata": {},
   "outputs": [],
   "source": [
    "# Setup the geoserver instance\n",
    "geoserver = GeoServer(\n",
    "    service_url=\"http://localhost:8080/geoserver\",\n",
    "    username=\"admin\",\n",
    "    password=\"geoserver\",\n",
    ")\n",
    "\n",
    "# If the workspace does not exist, create it\n",
    "if geoserver.workspace_exists(\"demo\"):\n",
    "    geoserver.delete_workspace(\"demo\", recurse=True)"
   ]
  },
  {
   "cell_type": "markdown",
   "metadata": {
    "vscode": {
     "languageId": "plaintext"
    }
   },
   "source": [
    "## Adding a new workspace\n",
    "\n",
    "Creates a new workspace named `\"demo\"` using the `create_workspace` method."
   ]
  },
  {
   "cell_type": "code",
   "execution_count": 3,
   "metadata": {},
   "outputs": [
    {
     "data": {
      "text/plain": [
       "'Created'"
      ]
     },
     "execution_count": 3,
     "metadata": {},
     "output_type": "execute_result"
    }
   ],
   "source": [
    "# Using JSON format\n",
    "body = {\n",
    "    \"workspace\": {\n",
    "        \"name\": \"demo\",\n",
    "    }\n",
    "}\n",
    "\n",
    "# Using XML format\n",
    "body = \"\"\"\n",
    "<workspace>\n",
    "    <name>demo</name>\n",
    "</workspace>\n",
    "\"\"\"\n",
    "\n",
    "# Create the workspace\n",
    "geoserver.create_workspace(body=body)"
   ]
  },
  {
   "cell_type": "markdown",
   "metadata": {},
   "source": [
    "Because it can be verbose to create the workspace by providing the full XML, we can use the `create_workspace_by_name` method to create a workspace by providing only the name."
   ]
  },
  {
   "cell_type": "code",
   "execution_count": 4,
   "metadata": {},
   "outputs": [],
   "source": [
    "# geoserver.create_workspace_by_name(name=\"demo\")"
   ]
  },
  {
   "cell_type": "markdown",
   "metadata": {},
   "source": [
    "## Retrieving workspace\n",
    "\n",
    "Retrieve information about a specific workspace. You can specify the response format as JSON or XML by setting the `format` parameter."
   ]
  },
  {
   "cell_type": "code",
   "execution_count": 5,
   "metadata": {},
   "outputs": [
    {
     "data": {
      "text/plain": [
       "{'workspace': {'name': 'demo',\n",
       "  'isolated': False,\n",
       "  'dateCreated': '2024-06-10 20:08:02.116 UTC',\n",
       "  'dataStores': 'http://localhost:8080/geoserver/rest/workspaces/demo/datastores.json',\n",
       "  'coverageStores': 'http://localhost:8080/geoserver/rest/workspaces/demo/coveragestores.json',\n",
       "  'wmsStores': 'http://localhost:8080/geoserver/rest/workspaces/demo/wmsstores.json',\n",
       "  'wmtsStores': 'http://localhost:8080/geoserver/rest/workspaces/demo/wmtsstores.json'}}"
      ]
     },
     "execution_count": 5,
     "metadata": {},
     "output_type": "execute_result"
    }
   ],
   "source": [
    "geoserver.get_workspace(workspace=\"demo\")"
   ]
  },
  {
   "cell_type": "code",
   "execution_count": 6,
   "metadata": {},
   "outputs": [
    {
     "name": "stdout",
     "output_type": "stream",
     "text": [
      "<workspace>\n",
      "  <name>demo</name>\n",
      "  <isolated>false</isolated>\n",
      "  <dateCreated>2024-06-10 20:08:02.116 UTC</dateCreated>\n",
      "  <dataStores>\n",
      "    <atom:link xmlns:atom=\"http://www.w3.org/2005/Atom\" rel=\"alternate\" href=\"http://localhost:8080/geoserver/rest/workspaces/demo/datastores.xml\" type=\"application/xml\"/>\n",
      "  </dataStores>\n",
      "  <coverageStores>\n",
      "    <atom:link xmlns:atom=\"http://www.w3.org/2005/Atom\" rel=\"alternate\" href=\"http://localhost:8080/geoserver/rest/workspaces/demo/coveragestores.xml\" type=\"application/xml\"/>\n",
      "  </coverageStores>\n",
      "  <wmsStores>\n",
      "    <atom:link xmlns:atom=\"http://www.w3.org/2005/Atom\" rel=\"alternate\" href=\"http://localhost:8080/geoserver/rest/workspaces/demo/wmsstores.xml\" type=\"application/xml\"/>\n",
      "  </wmsStores>\n",
      "  <wmtsStores>\n",
      "    <atom:link xmlns:atom=\"http://www.w3.org/2005/Atom\" rel=\"alternate\" href=\"http://localhost:8080/geoserver/rest/workspaces/demo/wmtsstores.xml\" type=\"application/xml\"/>\n",
      "  </wmtsStores>\n",
      "</workspace>\n"
     ]
    }
   ],
   "source": [
    "data = geoserver.get_workspace(workspace=\"demo\", format=\"xml\")\n",
    "print(data)"
   ]
  },
  {
   "cell_type": "markdown",
   "metadata": {},
   "source": [
    "This shows that the workspace can contain `\"dataStores\"` (for vector data), `\"coverageStores\"` (for raster data), and `\"wmsStores\"` (for cascaded WMS servers)."
   ]
  }
 ],
 "metadata": {
  "kernelspec": {
   "display_name": ".venv",
   "language": "python",
   "name": "python3"
  },
  "language_info": {
   "codemirror_mode": {
    "name": "ipython",
    "version": 3
   },
   "file_extension": ".py",
   "mimetype": "text/x-python",
   "name": "python",
   "nbconvert_exporter": "python",
   "pygments_lexer": "ipython3",
   "version": "3.12.2"
  }
 },
 "nbformat": 4,
 "nbformat_minor": 2
}
