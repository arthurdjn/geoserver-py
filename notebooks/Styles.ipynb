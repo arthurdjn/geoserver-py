{
 "cells": [
  {
   "cell_type": "markdown",
   "metadata": {},
   "source": [
    "# Styles\n",
    "\n",
    "The REST API allows you to list, create, upload, update, and delete styles in GeoServer.\n",
    "\n",
    "> **Note:** <br> \n",
    "> You can find the official example at [https://docs.geoserver.org/2.25.x/en/user/rest/styles.html](https://docs.geoserver.org/2.25.x/en/user/rest/styles.html)"
   ]
  },
  {
   "cell_type": "markdown",
   "metadata": {},
   "source": [
    "## Setup\n",
    "\n",
    "### Imports\n",
    "\n",
    "First, we need to import the necessary modules and classes."
   ]
  },
  {
   "cell_type": "code",
   "execution_count": 1,
   "metadata": {},
   "outputs": [],
   "source": [
    "from pathlib import Path\n",
    "from geoserver import GeoServer"
   ]
  },
  {
   "cell_type": "markdown",
   "metadata": {},
   "source": [
    "### GeoServer Connection\n",
    "\n",
    "Connect to the running GeoServer instance and create a workspace and a store."
   ]
  },
  {
   "cell_type": "code",
   "execution_count": 2,
   "metadata": {},
   "outputs": [],
   "source": [
    "# Setup the geoserver instance\n",
    "geoserver = GeoServer(\n",
    "    service_url=\"http://localhost:8080/geoserver\",\n",
    "    username=\"admin\",\n",
    "    password=\"geoserver\",\n",
    ")"
   ]
  },
  {
   "cell_type": "markdown",
   "metadata": {},
   "source": [
    "Let's cleanup the previous styles:"
   ]
  },
  {
   "cell_type": "code",
   "execution_count": 3,
   "metadata": {},
   "outputs": [
    {
     "data": {
      "text/plain": [
       "'Created'"
      ]
     },
     "execution_count": 3,
     "metadata": {},
     "output_type": "execute_result"
    }
   ],
   "source": [
    "if geoserver.workspace_exists(\"demo\"):\n",
    "    geoserver.delete_workspace(\"demo\", recurse=True)\n",
    "\n",
    "geoserver.create_workspace_from_name(\"demo\")"
   ]
  },
  {
   "cell_type": "markdown",
   "metadata": {},
   "source": [
    "### Utils\n",
    "\n",
    "For this tutorial, styles are located in the [examples](https://github.com/arthurdjn/geoserver-py/tree/main/examples) directory."
   ]
  },
  {
   "cell_type": "code",
   "execution_count": 4,
   "metadata": {},
   "outputs": [],
   "source": [
    "# Directory containing sample data\n",
    "DATA_DIR = Path(\"../tests/data\")\n",
    "assert DATA_DIR.exists(), f\"The directory {DATA_DIR} does not exist.\""
   ]
  },
  {
   "cell_type": "markdown",
   "metadata": {},
   "source": [
    "## Listing all styles\n",
    "\n",
    "To list all the styles in the GeoServer instance, use the `get_styles` method."
   ]
  },
  {
   "cell_type": "code",
   "execution_count": 5,
   "metadata": {},
   "outputs": [
    {
     "data": {
      "text/plain": [
       "{'styles': {'style': [{'name': 'generic',\n",
       "    'href': 'http://localhost:8080/geoserver/rest/styles/generic.json'},\n",
       "   {'name': 'line',\n",
       "    'href': 'http://localhost:8080/geoserver/rest/styles/line.json'},\n",
       "   {'name': 'point',\n",
       "    'href': 'http://localhost:8080/geoserver/rest/styles/point.json'},\n",
       "   {'name': 'polygon',\n",
       "    'href': 'http://localhost:8080/geoserver/rest/styles/polygon.json'},\n",
       "   {'name': 'raster',\n",
       "    'href': 'http://localhost:8080/geoserver/rest/styles/raster.json'}]}}"
      ]
     },
     "execution_count": 5,
     "metadata": {},
     "output_type": "execute_result"
    }
   ],
   "source": [
    "geoserver.get_styles()"
   ]
  },
  {
   "cell_type": "markdown",
   "metadata": {},
   "source": [
    "## Retrieve a style\n",
    "\n",
    "To get a specific style, use the `get_style` method."
   ]
  },
  {
   "cell_type": "code",
   "execution_count": 6,
   "metadata": {},
   "outputs": [
    {
     "data": {
      "text/plain": [
       "{'style': {'name': 'point',\n",
       "  'format': 'sld',\n",
       "  'languageVersion': {'version': '1.0.0'},\n",
       "  'filename': 'default_point.sld'}}"
      ]
     },
     "execution_count": 6,
     "metadata": {},
     "output_type": "execute_result"
    }
   ],
   "source": [
    "geoserver.get_style(style=\"point\")"
   ]
  },
  {
   "cell_type": "markdown",
   "metadata": {},
   "source": [
    "## Creating a style\n",
    "\n",
    "You can create a new style on the server in two ways. In the first way, the creation is done in two steps: the style entry is created in the catalog, and then the style content is uploaded.\n",
    "The second way can add the style to the server in a single step by uploading a file containing the style content.\n",
    "\n",
    "\n",
    "### Create a new style in two steps"
   ]
  },
  {
   "cell_type": "code",
   "execution_count": 7,
   "metadata": {},
   "outputs": [
    {
     "data": {
      "text/plain": [
       "'Created'"
      ]
     },
     "execution_count": 7,
     "metadata": {},
     "output_type": "execute_result"
    }
   ],
   "source": [
    "# Using XML format\n",
    "body = \"\"\"\n",
    "<style>\n",
    "    <name>elevation</name>\n",
    "    <filename>elevation.sld</filename>\n",
    "</style>\n",
    "\"\"\"\n",
    "\n",
    "geoserver.create_style(body=body, workspace=\"demo\")"
   ]
  },
  {
   "cell_type": "code",
   "execution_count": 8,
   "metadata": {},
   "outputs": [
    {
     "data": {
      "text/plain": [
       "'Updated'"
      ]
     },
     "execution_count": 8,
     "metadata": {},
     "output_type": "execute_result"
    }
   ],
   "source": [
    "# Get the styles associated to the raster layer\n",
    "file_path = DATA_DIR / \"styles\" / \"elevation.sld\"\n",
    "assert file_path.exists(), f\"File not found: {file_path.as_posix()!r}\"\n",
    "\n",
    "\n",
    "with open(file_path, \"r\") as file:\n",
    "    body = file.read()\n",
    "\n",
    "\n",
    "geoserver.update_style(style=\"elevation\", body=body, workspace=\"demo\")"
   ]
  },
  {
   "cell_type": "markdown",
   "metadata": {},
   "source": [
    "### Uploading a style from a file\n",
    "\n",
    "You can upload a style from a file using the `upload_style` method. The method supports both SLD and ZIP files."
   ]
  },
  {
   "cell_type": "code",
   "execution_count": 9,
   "metadata": {},
   "outputs": [
    {
     "data": {
      "text/plain": [
       "'Created'"
      ]
     },
     "execution_count": 9,
     "metadata": {},
     "output_type": "execute_result"
    }
   ],
   "source": [
    "# Get the styles associated to the raster layer\n",
    "file_path = DATA_DIR / \"styles\" / \"elevation.sld\"\n",
    "assert file_path.exists(), f\"File not found: {file_path.as_posix()!r}\"\n",
    "\n",
    "\n",
    "geoserver.upload_style(file=file_path, workspace=\"demo\", style=\"elevation\", overwrite=True)"
   ]
  },
  {
   "cell_type": "markdown",
   "metadata": {},
   "source": [
    "## Changing an existing style\n",
    "\n",
    "To update a style, use the `update_style` method."
   ]
  },
  {
   "cell_type": "code",
   "execution_count": 10,
   "metadata": {},
   "outputs": [
    {
     "data": {
      "text/plain": [
       "'Updated'"
      ]
     },
     "execution_count": 10,
     "metadata": {},
     "output_type": "execute_result"
    }
   ],
   "source": [
    "# Get the styles associated to the raster layer\n",
    "file_path = DATA_DIR / \"styles\" / \"elevation.sld\"\n",
    "assert file_path.exists(), f\"File not found: {file_path.as_posix()!r}\"\n",
    "\n",
    "\n",
    "with open(file_path, \"r\") as file:\n",
    "    body = file.read()\n",
    "\n",
    "\n",
    "geoserver.update_style(style=\"elevation\", body=body, workspace=\"demo\")"
   ]
  },
  {
   "cell_type": "markdown",
   "metadata": {},
   "source": [
    "## Reupload the content of an existing style\n",
    "\n",
    "By default, you cannot reupload the content of an existing style. You can use the `overwrite=True` parameter to allow the content to be reuploaded."
   ]
  },
  {
   "cell_type": "code",
   "execution_count": 11,
   "metadata": {},
   "outputs": [
    {
     "data": {
      "text/plain": [
       "'Created'"
      ]
     },
     "execution_count": 11,
     "metadata": {},
     "output_type": "execute_result"
    }
   ],
   "source": [
    "geoserver.upload_style(file=file_path, workspace=\"demo\", style=\"elevation\", overwrite=True)"
   ]
  },
  {
   "cell_type": "markdown",
   "metadata": {},
   "source": [
    "## Downloading a style\n",
    "\n",
    "The SLD itself can be downloaded using the `download_style` method."
   ]
  },
  {
   "cell_type": "code",
   "execution_count": 12,
   "metadata": {},
   "outputs": [
    {
     "name": "stdout",
     "output_type": "stream",
     "text": [
      "<?xml version=\"1.0\" encoding=\"UTF-8\"?><sld:StyledLayerDescriptor xmlns=\"http://www.opengis.net/sld\" xmlns:sld=\"http://www.opengis.net/sld\" xmlns:gml=\"http://www.opengis.net/gml\" xmlns:ogc=\"http://www.opengis.net/ogc\" version=\"1.0.0\">\n",
      "  <sld:NamedLayer>\n",
      "    <sld:Name>raster</sld:Name>\n",
      "    <sld:UserStyle>\n",
      "      <sld:Name>raster</sld:Name>\n",
      "      <sld:FeatureTypeStyle>\n",
      "        <sld:Name>name</sld:Name>\n",
      "        <sld:Rule>\n",
      "          <sld:RasterSymbolizer>\n",
      "            <sld:ChannelSelection>\n",
      "              <sld:GrayChannel>\n",
      "                <sld:SourceChannelName>1</sld:SourceChannelName>\n",
      "                <sld:ContrastEnhancement>\n",
      "                  <sld:GammaValue>1.0</sld:GammaValue>\n",
      "                </sld:ContrastEnhancement>\n",
      "              </sld:GrayChannel>\n",
      "            </sld:ChannelSelection>\n",
      "            <sld:ColorMap>\n",
      "              <sld:ColorMapEntry color=\"#FFFFFF\" opacity=\"0\" quantity=\"-1\" label=\"label\"/>\n",
      "              <sld:ColorMapEntry color=\"#0000FF\" opacity=\"1\" quantity=\"0\" label=\"label\"/>\n",
      "              <sld:ColorMapEntry color=\"#FF0000\" opacity=\"1\" quantity=\"110\" label=\"label\"/>\n",
      "            </sld:ColorMap>\n",
      "            <sld:ContrastEnhancement/>\n",
      "          </sld:RasterSymbolizer>\n",
      "        </sld:Rule>\n",
      "      </sld:FeatureTypeStyle>\n",
      "    </sld:UserStyle>\n",
      "  </sld:NamedLayer>\n",
      "</sld:StyledLayerDescriptor>\n",
      "\n",
      "\n"
     ]
    }
   ],
   "source": [
    "xml = geoserver.download_style(style=\"elevation\", workspace=\"demo\")\n",
    "print(xml)"
   ]
  },
  {
   "cell_type": "markdown",
   "metadata": {},
   "source": [
    "## Publishing a style\n",
    "\n",
    "To style an existing layer, use the `publish_style` method. This method is just a shortcut to the `update_layer` method, which allows you to update the style of a layer."
   ]
  },
  {
   "cell_type": "code",
   "execution_count": 13,
   "metadata": {},
   "outputs": [
    {
     "data": {
      "text/plain": [
       "'Created'"
      ]
     },
     "execution_count": 13,
     "metadata": {},
     "output_type": "execute_result"
    }
   ],
   "source": [
    "file_path = DATA_DIR / \"rasters\" / \"elevation.tif\"\n",
    "assert file_path.exists(), f\"File not found: {file_path.as_posix()!r}\"\n",
    "\n",
    "\n",
    "geoserver.upload_coverage_store(file=file_path, workspace=\"demo\", format=\"geotiff\")"
   ]
  },
  {
   "cell_type": "code",
   "execution_count": 14,
   "metadata": {},
   "outputs": [
    {
     "data": {
      "text/plain": [
       "'Updated'"
      ]
     },
     "execution_count": 14,
     "metadata": {},
     "output_type": "execute_result"
    }
   ],
   "source": [
    "geoserver.publish_style(layer=\"elevation\", style=\"elevation\", workspace=\"demo\")"
   ]
  },
  {
   "cell_type": "markdown",
   "metadata": {},
   "source": [
    "## Deleting a style\n",
    "\n",
    "To delete a style, use the `delete_style` method. You can use the `purge=True` argument to remove the style and all its references."
   ]
  },
  {
   "cell_type": "code",
   "execution_count": 15,
   "metadata": {},
   "outputs": [
    {
     "data": {
      "text/plain": [
       "{'styles': {'style': [{'name': 'elevation',\n",
       "    'href': 'http://localhost:8080/geoserver/rest/workspaces/demo/styles/elevation.json'}]}}"
      ]
     },
     "execution_count": 15,
     "metadata": {},
     "output_type": "execute_result"
    }
   ],
   "source": [
    "geoserver.get_styles(workspace=\"demo\")"
   ]
  },
  {
   "cell_type": "code",
   "execution_count": 16,
   "metadata": {},
   "outputs": [
    {
     "data": {
      "text/plain": [
       "'Deleted'"
      ]
     },
     "execution_count": 16,
     "metadata": {},
     "output_type": "execute_result"
    }
   ],
   "source": [
    "geoserver.delete_style(style=\"elevation\", workspace=\"demo\", recurse=True)"
   ]
  }
 ],
 "metadata": {
  "kernelspec": {
   "display_name": ".venv",
   "language": "python",
   "name": "python3"
  },
  "language_info": {
   "codemirror_mode": {
    "name": "ipython",
    "version": 3
   },
   "file_extension": ".py",
   "mimetype": "text/x-python",
   "name": "python",
   "nbconvert_exporter": "python",
   "pygments_lexer": "ipython3",
   "version": "3.12.2"
  }
 },
 "nbformat": 4,
 "nbformat_minor": 2
}
