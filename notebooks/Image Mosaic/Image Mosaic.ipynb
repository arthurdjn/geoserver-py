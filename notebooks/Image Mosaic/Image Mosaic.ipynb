{
 "cells": [
  {
   "cell_type": "markdown",
   "metadata": {},
   "source": [
    "# Image Mosaic"
   ]
  },
  {
   "cell_type": "markdown",
   "metadata": {},
   "source": [
    "## Setup\n",
    "\n",
    "### Imports\n",
    "\n",
    "First, we need to import the necessary modules and classes."
   ]
  },
  {
   "cell_type": "code",
   "execution_count": 1,
   "metadata": {},
   "outputs": [],
   "source": [
    "from pathlib import Path\n",
    "from geoserver import GeoServer"
   ]
  },
  {
   "cell_type": "markdown",
   "metadata": {},
   "source": [
    "### GeoServer Connection\n",
    "\n",
    "Connect to the running GeoServer instance and create a workspace and a store."
   ]
  },
  {
   "cell_type": "code",
   "execution_count": 2,
   "metadata": {},
   "outputs": [],
   "source": [
    "# Setup the geoserver instance\n",
    "geoserver = GeoServer(\n",
    "    service_url=\"http://localhost:8080/geoserver\",\n",
    "    username=\"admin\",\n",
    "    password=\"geoserver\",\n",
    ")"
   ]
  },
  {
   "cell_type": "markdown",
   "metadata": {},
   "source": [
    "Let's clean up the workspace and remove created data."
   ]
  },
  {
   "cell_type": "code",
   "execution_count": 3,
   "metadata": {},
   "outputs": [
    {
     "data": {
      "text/plain": [
       "'Created'"
      ]
     },
     "execution_count": 3,
     "metadata": {},
     "output_type": "execute_result"
    }
   ],
   "source": [
    "if geoserver.workspace_exists(\"demo\"):\n",
    "    geoserver.delete_workspace(\"demo\", recurse=True)\n",
    "\n",
    "geoserver.create_workspace_from_name(\"demo\")"
   ]
  },
  {
   "cell_type": "markdown",
   "metadata": {},
   "source": [
    "### Config\n",
    "\n",
    "We'll set up the configuration for the notebook:"
   ]
  },
  {
   "cell_type": "code",
   "execution_count": 4,
   "metadata": {},
   "outputs": [],
   "source": [
    "# Directory containing sample data\n",
    "DATA_DIR = Path(\"../tests/data\")\n",
    "assert DATA_DIR.exists(), f\"The directory {DATA_DIR} does not exist.\""
   ]
  },
  {
   "cell_type": "markdown",
   "metadata": {},
   "source": [
    "## Uploading a new image mosaic\n",
    "\n",
    "Upload a ZIP file containing a mosaic definition and granule(s)."
   ]
  },
  {
   "cell_type": "code",
   "execution_count": 5,
   "metadata": {},
   "outputs": [
    {
     "data": {
      "text/plain": [
       "'Created'"
      ]
     },
     "execution_count": 5,
     "metadata": {},
     "output_type": "execute_result"
    }
   ],
   "source": [
    "file_path = DATA_DIR / \"mosaics\" / \"polyphemus.zip\"\n",
    "assert file_path.exists(), f\"File not found: {file_path.as_posix()!r}\"\n",
    "\n",
    "\n",
    "# If the store already exists, it will be overwritten\n",
    "geoserver.upload_coverage_store(file=file_path, format=\"imagemosaic\", workspace=\"demo\", name=\"polyphemus\")"
   ]
  },
  {
   "cell_type": "markdown",
   "metadata": {},
   "source": [
    "## Updating an image mosaic contents\n",
    "\n",
    "Harvest (or reharvest) a single file into the mosaic and update the mosaic index.\n",
    "\n",
    "```python\n",
    "geoserver.upload_coverage_store(\n",
    "    file=\"file:/path/to/the/file/polyphemus_20130302.nc\", \n",
    "    format=\"imagemosaic\", \n",
    "    workspace=\"demo\", \n",
    "    name=\"poly-incremental\",\n",
    ")\n",
    "```\n",
    "\n",
    "Harvest (or reharvest) a whole directory into the mosaic and update the mosaic index.\n",
    "\n",
    "```python\n",
    "geoserver.upload_coverage_store(\n",
    "    file=\"file:/path/to/the/mosaic/folder\", \n",
    "    format=\"imagemosaic\", \n",
    "    workspace=\"demo\", \n",
    "    name=\"poly-incremental\",\n",
    ")\n",
    "```"
   ]
  },
  {
   "cell_type": "markdown",
   "metadata": {},
   "source": [
    "## Listing image mosaic details\n",
    "\n",
    "Retrieve the image mosaic index structure."
   ]
  },
  {
   "cell_type": "code",
   "execution_count": 6,
   "metadata": {},
   "outputs": [
    {
     "name": "stdout",
     "output_type": "stream",
     "text": [
      "<coverages>\n",
      "  <coverage>\n",
      "    <name>O3</name>\n",
      "    <atom:link xmlns:atom=\"http://www.w3.org/2005/Atom\" rel=\"alternate\" href=\"http://localhost:8080/geoserver/rest/workspaces/demo/coveragestores/polyphemus/coverages/O3.xml\" type=\"application/atom+xml\"/>\n",
      "  </coverage>\n",
      "</coverages>\n"
     ]
    }
   ],
   "source": [
    "xml = geoserver.get_coverages(workspace=\"demo\", store=\"polyphemus\", format=\"xml\")\n",
    "print(xml)"
   ]
  },
  {
   "cell_type": "code",
   "execution_count": 7,
   "metadata": {},
   "outputs": [
    {
     "name": "stdout",
     "output_type": "stream",
     "text": [
      "<coverage>\n",
      "  <name>O3</name>\n",
      "  <nativeName>O3</nativeName>\n",
      "  <namespace>\n",
      "    <name>demo</name>\n",
      "    <atom:link xmlns:atom=\"http://www.w3.org/2005/Atom\" rel=\"alternate\" href=\"http://localhost:8080/geoserver/rest/namespaces/demo.xml\" type=\"application/xml\"/>\n",
      "  </namespace>\n",
      "  <title>O3</title>\n",
      "  <description>Generated from ImageMosaic</description>\n",
      "  <keywords>\n",
      "    <string>O3</string>\n",
      "    <string>WCS</string>\n",
      "    <string>ImageMosaic</string>\n",
      "  </keywords>\n",
      "  <nativeCRS>GEOGCS[&quot;WGS 84&quot;, \n",
      "  DATUM[&quot;World Geodetic System 1984&quot;, \n",
      "    SPHEROID[&quot;WGS 84&quot;, 6378137.0, 298.257223563, AUTHORITY[&quot;EPSG&quot;,&quot;7030&quot;]], \n",
      "    AUTHORITY[&quot;EPSG&quot;,&quot;6326&quot;]], \n",
      "  PRIMEM[&quot;Greenwich&quot;, 0.0, AUTHORITY[&quot;EPSG&quot;,&quot;8901&quot;]], \n",
      "  UNIT[&quot;degree&quot;, 0.017453292519943295], \n",
      "  AXIS[&quot;Geodetic longitude&quot;, EAST], \n",
      "  AXIS[&quot;Geodetic latitude&quot;, NORTH], \n",
      "  AUTHORITY[&quot;EPSG&quot;,&quot;4326&quot;]]</nativeCRS>\n",
      "  <srs>EPSG:4326</srs>\n",
      "  <nativeBoundingBox>\n",
      "    <minx>4.9375</minx>\n",
      "    <maxx>14.9375</maxx>\n",
      "    <miny>44.96875</miny>\n",
      "    <maxy>50.96875</maxy>\n",
      "    <crs>EPSG:4326</crs>\n",
      "  </nativeBoundingBox>\n",
      "  <latLonBoundingBox>\n",
      "    <minx>4.9375</minx>\n",
      "    <maxx>14.9375</maxx>\n",
      "    <miny>44.96875</miny>\n",
      "    <maxy>50.96875</maxy>\n",
      "    <crs>EPSG:4326</crs>\n",
      "  </latLonBoundingBox>\n",
      "  <projectionPolicy>REPROJECT_TO_DECLARED</projectionPolicy>\n",
      "  <enabled>true</enabled>\n",
      "  <metadata>\n",
      "    <entry key=\"dirName\">polyphemus_null</entry>\n",
      "  </metadata>\n",
      "  <store class=\"coverageStore\">\n",
      "    <name>demo:polyphemus</name>\n",
      "    <atom:link xmlns:atom=\"http://www.w3.org/2005/Atom\" rel=\"alternate\" href=\"http://localhost:8080/geoserver/rest/workspaces/demo/coveragestores/polyphemus.xml\" type=\"application/xml\"/>\n",
      "  </store>\n",
      "  <serviceConfiguration>false</serviceConfiguration>\n",
      "  <simpleConversionEnabled>false</simpleConversionEnabled>\n",
      "  <nativeFormat>ImageMosaic</nativeFormat>\n",
      "  <grid dimension=\"2\">\n",
      "    <range>\n",
      "      <low>0 0</low>\n",
      "      <high>80 96</high>\n",
      "    </range>\n",
      "    <transform>\n",
      "      <scaleX>0.125</scaleX>\n",
      "      <scaleY>-0.0625</scaleY>\n",
      "      <shearX>0.0</shearX>\n",
      "      <shearY>0.0</shearY>\n",
      "      <translateX>5.0</translateX>\n",
      "      <translateY>50.9375</translateY>\n",
      "    </transform>\n",
      "    <crs>EPSG:4326</crs>\n",
      "  </grid>\n",
      "  <supportedFormats>\n",
      "    <string>GIF</string>\n",
      "    <string>PNG</string>\n",
      "    <string>JPEG</string>\n",
      "    <string>TIFF</string>\n",
      "    <string>NetCDF</string>\n",
      "    <string>EHdr</string>\n",
      "    <string>VRT</string>\n",
      "    <string>GEOTIFF</string>\n",
      "    <string>DTED</string>\n",
      "    <string>ArcGrid</string>\n",
      "    <string>RST</string>\n",
      "    <string>GeoPackage (mosaic)</string>\n",
      "    <string>ImageMosaic</string>\n",
      "    <string>SRP</string>\n",
      "    <string>ENVIHdr</string>\n",
      "    <string>ERDASImg</string>\n",
      "    <string>ImagePyramid</string>\n",
      "    <string>AIG</string>\n",
      "    <string>RPFTOC</string>\n",
      "    <string>NITF</string>\n",
      "  </supportedFormats>\n",
      "  <interpolationMethods>\n",
      "    <string>nearest neighbor</string>\n",
      "    <string>bilinear</string>\n",
      "    <string>bicubic</string>\n",
      "  </interpolationMethods>\n",
      "  <defaultInterpolationMethod>nearest neighbor</defaultInterpolationMethod>\n",
      "  <dimensions>\n",
      "    <coverageDimension>\n",
      "      <name>GRAY_INDEX</name>\n",
      "      <description>GridSampleDimension[-Infinity,Infinity]</description>\n",
      "      <range>\n",
      "        <min>-inf</min>\n",
      "        <max>inf</max>\n",
      "      </range>\n",
      "      <dimensionType>\n",
      "        <name>REAL_32BITS</name>\n",
      "      </dimensionType>\n",
      "    </coverageDimension>\n",
      "  </dimensions>\n",
      "  <requestSRS>\n",
      "    <string>EPSG:4326</string>\n",
      "  </requestSRS>\n",
      "  <responseSRS>\n",
      "    <string>EPSG:4326</string>\n",
      "  </responseSRS>\n",
      "  <parameters>\n",
      "    <entry>\n",
      "      <string>BackgroundValues</string>\n",
      "      <string></string>\n",
      "    </entry>\n",
      "    <entry>\n",
      "      <string>OVERVIEW_POLICY</string>\n",
      "      <string>QUALITY</string>\n",
      "    </entry>\n",
      "    <entry>\n",
      "      <string>MergeBehavior</string>\n",
      "      <string>FLAT</string>\n",
      "    </entry>\n",
      "    <entry>\n",
      "      <string>AllowMultithreading</string>\n",
      "      <string>false</string>\n",
      "    </entry>\n",
      "    <entry>\n",
      "      <string>MaxAllowedTiles</string>\n",
      "      <string>-1</string>\n",
      "    </entry>\n",
      "    <entry>\n",
      "      <string>ExcessGranuleRemoval</string>\n",
      "      <string>NONE</string>\n",
      "    </entry>\n",
      "    <entry>\n",
      "      <string>OutputTransparentColor</string>\n",
      "      <string></string>\n",
      "    </entry>\n",
      "    <entry>\n",
      "      <string>USE_JAI_IMAGEREAD</string>\n",
      "      <string>true</string>\n",
      "    </entry>\n",
      "    <entry>\n",
      "      <string>Bands</string>\n",
      "      <string></string>\n",
      "    </entry>\n",
      "    <entry>\n",
      "      <string>RescalePixels</string>\n",
      "      <string>true</string>\n",
      "    </entry>\n",
      "    <entry>\n",
      "      <string>Filter</string>\n",
      "      <string></string>\n",
      "    </entry>\n",
      "    <entry>\n",
      "      <string>InputTransparentColor</string>\n",
      "      <string></string>\n",
      "    </entry>\n",
      "    <entry>\n",
      "      <string>SUGGESTED_TILE_SIZE</string>\n",
      "      <string>512,512</string>\n",
      "    </entry>\n",
      "    <entry>\n",
      "      <string>Accurate resolution computation</string>\n",
      "      <string>false</string>\n",
      "    </entry>\n",
      "    <entry>\n",
      "      <string>SORTING</string>\n",
      "      <string></string>\n",
      "    </entry>\n",
      "    <entry>\n",
      "      <string>FootprintBehavior</string>\n",
      "      <string>None</string>\n",
      "    </entry>\n",
      "  </parameters>\n",
      "  <nativeCoverageName>O3</nativeCoverageName>\n",
      "</coverage>\n"
     ]
    }
   ],
   "source": [
    "xml = geoserver.get_coverage(name=\"O3\", workspace=\"demo\", store=\"polyphemus\", format=\"xml\")\n",
    "print(xml)"
   ]
  },
  {
   "cell_type": "code",
   "execution_count": 8,
   "metadata": {},
   "outputs": [
    {
     "name": "stdout",
     "output_type": "stream",
     "text": [
      "<Schema>\n",
      "  <attributes>\n",
      "    <Attribute>\n",
      "      <name>the_geom</name>\n",
      "      <minOccurs>0</minOccurs>\n",
      "      <maxOccurs>1</maxOccurs>\n",
      "      <nillable>true</nillable>\n",
      "      <binding>org.locationtech.jts.geom.Polygon</binding>\n",
      "    </Attribute>\n",
      "    <Attribute>\n",
      "      <name>location</name>\n",
      "      <minOccurs>0</minOccurs>\n",
      "      <maxOccurs>1</maxOccurs>\n",
      "      <nillable>true</nillable>\n",
      "      <binding>java.lang.String</binding>\n",
      "    </Attribute>\n",
      "    <Attribute>\n",
      "      <name>imageindex</name>\n",
      "      <minOccurs>0</minOccurs>\n",
      "      <maxOccurs>1</maxOccurs>\n",
      "      <nillable>true</nillable>\n",
      "      <binding>java.lang.Integer</binding>\n",
      "    </Attribute>\n",
      "    <Attribute>\n",
      "      <name>time</name>\n",
      "      <minOccurs>0</minOccurs>\n",
      "      <maxOccurs>1</maxOccurs>\n",
      "      <nillable>true</nillable>\n",
      "      <binding>java.sql.Timestamp</binding>\n",
      "    </Attribute>\n",
      "  </attributes>\n",
      "  <atom:link xmlns:atom=\"http://www.w3.org/2005/Atom\" rel=\"alternate\" href=\"http://localhost:8080/geoserver/rest/workspaces/demo/coveragestores/polyphemus/coverages/O3/index/granules.xml\" type=\"application/xml\"/>\n",
      "</Schema>\n"
     ]
    }
   ],
   "source": [
    "xml = geoserver.get_coverage_index(name=\"O3\", workspace=\"demo\", store=\"polyphemus\", format=\"xml\")\n",
    "print(xml)"
   ]
  },
  {
   "cell_type": "markdown",
   "metadata": {},
   "source": [
    "Retrieve the existing granule information:"
   ]
  },
  {
   "cell_type": "code",
   "execution_count": 9,
   "metadata": {},
   "outputs": [
    {
     "name": "stdout",
     "output_type": "stream",
     "text": [
      "<?xml version=\"1.0\" encoding=\"UTF-8\"?><wfs:FeatureCollection xmlns:xs=\"http://www.w3.org/2001/XMLSchema\" xmlns:gf=\"http://www.geoserver.org/rest/granules\" xmlns:wfs=\"http://www.opengis.net/wfs\" xmlns:gml=\"http://www.opengis.net/gml\" xmlns:ogc=\"http://www.opengis.net/ogc\">\n",
      "<gml:boundedBy>\n",
      "<gml:Box srsName=\"http://www.opengis.net/gml/srs/epsg.xml#4326\">\n",
      "<gml:coord>\n",
      "<gml:X>4.9375</gml:X>\n",
      "<gml:Y>44.96875</gml:Y>\n",
      "</gml:coord>\n",
      "<gml:coord>\n",
      "<gml:X>14.9375</gml:X>\n",
      "<gml:Y>50.96875</gml:Y>\n",
      "</gml:coord>\n",
      "</gml:Box>\n",
      "</gml:boundedBy>\n",
      "<gml:featureMember>\n",
      "<gf:O3 fid=\"O3.1\">\n",
      "<gml:boundedBy>\n",
      "<gml:Box srsName=\"http://www.opengis.net/gml/srs/epsg.xml#4326\">\n",
      "<gml:coordinates>4.9375,44.96875 14.9375,50.96875</gml:coordinates>\n",
      "</gml:Box>\n",
      "</gml:boundedBy>\n",
      "<gf:the_geom>\n",
      "<gml:Polygon srsName=\"http://www.opengis.net/gml/srs/epsg.xml#4326\">\n",
      "<gml:outerBoundaryIs>\n",
      "<gml:LinearRing>\n",
      "<gml:coordinates>4.9375,44.96875 4.9375,50.96875 14.9375,50.96875 14.9375,44.96875 4.9375,44.96875</gml:coordinates>\n",
      "</gml:LinearRing>\n",
      "</gml:outerBoundaryIs>\n",
      "</gml:Polygon>\n",
      "</gf:the_geom>\n",
      "<gf:location>polyphemus_20130301_test.nc</gf:location>\n",
      "<gf:imageindex>0</gf:imageindex>\n",
      "<gf:time>2013-03-01T00:00:00Z</gf:time>\n",
      "</gf:O3>\n",
      "</gml:featureMember>\n",
      "<gml:featureMember>\n",
      "<gf:O3 fid=\"O3.2\">\n",
      "<gml:boundedBy>\n",
      "<gml:Box srsName=\"http://www.opengis.net/gml/srs/epsg.xml#4326\">\n",
      "<gml:coordinates>4.9375,44.96875 14.9375,50.96875</gml:coordinates>\n",
      "</gml:Box>\n",
      "</gml:boundedBy>\n",
      "<gf:the_geom>\n",
      "<gml:Polygon srsName=\"http://www.opengis.net/gml/srs/epsg.xml#4326\">\n",
      "<gml:outerBoundaryIs>\n",
      "<gml:LinearRing>\n",
      "<gml:coordinates>4.9375,44.96875 4.9375,50.96875 14.9375,50.96875 14.9375,44.96875 4.9375,44.96875</gml:coordinates>\n",
      "</gml:LinearRing>\n",
      "</gml:outerBoundaryIs>\n",
      "</gml:Polygon>\n",
      "</gf:the_geom>\n",
      "<gf:location>polyphemus_20130301_test.nc</gf:location>\n",
      "<gf:imageindex>1</gf:imageindex>\n",
      "<gf:time>2013-03-01T01:00:00Z</gf:time>\n",
      "</gf:O3>\n",
      "</gml:featureMember>\n",
      "</wfs:FeatureCollection>\n",
      "\n"
     ]
    }
   ],
   "source": [
    "xml = geoserver.get_coverage_granules(name=\"O3\", workspace=\"demo\", store=\"polyphemus\", format=\"xml\")\n",
    "print(xml)"
   ]
  },
  {
   "cell_type": "markdown",
   "metadata": {},
   "source": [
    "## Removing image mosaic granules\n",
    "\n",
    "Remove all the granules originating from a particular file."
   ]
  },
  {
   "cell_type": "code",
   "execution_count": 10,
   "metadata": {},
   "outputs": [
    {
     "data": {
      "text/plain": [
       "'Deleted'"
      ]
     },
     "execution_count": 10,
     "metadata": {},
     "output_type": "execute_result"
    }
   ],
   "source": [
    "geoserver.delete_coverage_granules(name=\"O3\", workspace=\"demo\", store=\"polyphemus\", filter=\"location='polyphemus_20130301.nc'\")"
   ]
  },
  {
   "cell_type": "markdown",
   "metadata": {},
   "source": [
    "## Uploading an empty mosaic\n",
    "\n",
    "Upload an archive with the definition of an mosaic, but with no granules.\n",
    "\n",
    "Given a [empty.zip](../examples/mosaics/empty.zip) file containing:\n",
    "\n",
    "- `datastore.properties` (PostGIS connection parameters)\n",
    "- `indexer.xml` (Mosaic indexer; note the CanBeEmpty=true parameter)\n",
    "- `polyphemus-test.xml` (Auxiliary file used by the NetCDF reader to parse schemas and tables)\n",
    "\n",
    "> **Warning:** <br>\n",
    "> Make sure to update the `datastore.properties` file with your connection parameters and refresh the ZIP before uploading it."
   ]
  },
  {
   "cell_type": "markdown",
   "metadata": {},
   "source": [
    "```python\n",
    "file_path = EXAMPLES_DIR / \"mosaics\" / \"empty.zip\"\n",
    "assert file_path.exists(), f\"File not found: {file_path.as_posix()!r}\"\n",
    "\n",
    "\n",
    "geoserver.upload_coverage_store(file=file_path, format=\"imagemosaic\", workspace=\"demo\", store=\"empty\", configure=\"none\")\n",
    "```"
   ]
  },
  {
   "cell_type": "markdown",
   "metadata": {},
   "source": [
    "> **Note:** <br>\n",
    "> The `configure=\"none\"` parameter allows for future configuration after harvesting"
   ]
  },
  {
   "cell_type": "code",
   "execution_count": null,
   "metadata": {},
   "outputs": [],
   "source": []
  },
  {
   "cell_type": "markdown",
   "metadata": {},
   "source": [
    "> **Note:** <br>\n",
    "> When specifying only the coverage name, the coverage will be automatically configured."
   ]
  },
  {
   "cell_type": "markdown",
   "metadata": {},
   "source": []
  }
 ],
 "metadata": {
  "kernelspec": {
   "display_name": ".venv",
   "language": "python",
   "name": "python3"
  },
  "language_info": {
   "codemirror_mode": {
    "name": "ipython",
    "version": 3
   },
   "file_extension": ".py",
   "mimetype": "text/x-python",
   "name": "python",
   "nbconvert_exporter": "python",
   "pygments_lexer": "ipython3",
   "version": "3.12.2"
  }
 },
 "nbformat": 4,
 "nbformat_minor": 2
}
