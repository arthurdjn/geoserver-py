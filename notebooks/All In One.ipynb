{
 "cells": [
  {
   "cell_type": "markdown",
   "metadata": {},
   "source": [
    "# All In One\n",
    "\n",
    "This notebook showcases some of the most common use cases to interact with a `GeoServer` server using its REST API through the `geoserver-py` Python package."
   ]
  },
  {
   "cell_type": "markdown",
   "metadata": {},
   "source": [
    "## Imports\n",
    "\n",
    "Let's start by importing the required libraries:"
   ]
  },
  {
   "cell_type": "code",
   "execution_count": 1,
   "metadata": {},
   "outputs": [],
   "source": [
    "from pathlib import Path\n",
    "from geoserver import GeoServer"
   ]
  },
  {
   "cell_type": "markdown",
   "metadata": {},
   "source": [
    "## Config\n",
    "\n",
    "We'll set up the configuration for the notebook:"
   ]
  },
  {
   "cell_type": "code",
   "execution_count": 2,
   "metadata": {},
   "outputs": [],
   "source": [
    "# Directory containing sample data\n",
    "EXAMPLES_DIR = Path(\"../examples\")\n",
    "assert EXAMPLES_DIR.exists(), f\"The directory {EXAMPLES_DIR} does not exist.\""
   ]
  },
  {
   "cell_type": "markdown",
   "metadata": {},
   "source": [
    "## Connection\n",
    "\n",
    "Connect to the GeoServer instance using the `GeoServer` object.\n",
    "You can pass additional parameters to the constructor, such as the `username`, `password` and other [`requests`]() supported parameters."
   ]
  },
  {
   "cell_type": "code",
   "execution_count": 3,
   "metadata": {},
   "outputs": [],
   "source": [
    "geoserver = GeoServer(\n",
    "    \"http://localhost:8080/geoserver\", \n",
    "    username=\"admin\", \n",
    "    password=\"geoserver\"\n",
    ")"
   ]
  },
  {
   "cell_type": "markdown",
   "metadata": {},
   "source": [
    "### Setup\n",
    "\n",
    "If the demo workspace already exists, we will delete it so that the demo can be run multiple times."
   ]
  },
  {
   "cell_type": "code",
   "execution_count": 4,
   "metadata": {},
   "outputs": [],
   "source": [
    "if geoserver.workspace_exists(workspace=\"demo\"):\n",
    "    geoserver.delete_workspace(workspace=\"demo\", recurse=True)"
   ]
  },
  {
   "cell_type": "markdown",
   "metadata": {},
   "source": [
    "## Workspaces\n",
    "\n",
    "### List existing workspaces\n",
    "\n",
    "To list the existing workspaces, we can use the `get_workspaces` method."
   ]
  },
  {
   "cell_type": "code",
   "execution_count": 5,
   "metadata": {},
   "outputs": [
    {
     "data": {
      "text/plain": [
       "{'workspaces': ''}"
      ]
     },
     "execution_count": 5,
     "metadata": {},
     "output_type": "execute_result"
    }
   ],
   "source": [
    "geoserver.get_workspaces()"
   ]
  },
  {
   "cell_type": "markdown",
   "metadata": {},
   "source": [
    "It is also possible to return the result as XML format using:"
   ]
  },
  {
   "cell_type": "code",
   "execution_count": 6,
   "metadata": {},
   "outputs": [
    {
     "name": "stdout",
     "output_type": "stream",
     "text": [
      "<workspaces/>\n"
     ]
    }
   ],
   "source": [
    "workspace = geoserver.get_workspaces(format=\"xml\")  # Default is \"json\"\n",
    "print(workspace)"
   ]
  },
  {
   "cell_type": "markdown",
   "metadata": {},
   "source": [
    "### Create a new workspace\n",
    "\n",
    "To create a new workspace, use the `create_workspace` method. This method will return a success message if the workspace is created successfully."
   ]
  },
  {
   "cell_type": "code",
   "execution_count": 7,
   "metadata": {},
   "outputs": [
    {
     "data": {
      "text/plain": [
       "'Created'"
      ]
     },
     "execution_count": 7,
     "metadata": {},
     "output_type": "execute_result"
    }
   ],
   "source": [
    "# Using JSON format\n",
    "body = {\"workspace\": {\"name\": \"demo\"}}\n",
    "# Using XML format\n",
    "body = \"<workspace><name>demo</name></workspace>\"\n",
    "\n",
    "\n",
    "geoserver.create_workspace(body=body)"
   ]
  },
  {
   "cell_type": "markdown",
   "metadata": {},
   "source": [
    "### Select a workspace\n",
    "\n",
    "To select a specific workspace, use the `get_workspace` method.\n"
   ]
  },
  {
   "cell_type": "code",
   "execution_count": 8,
   "metadata": {},
   "outputs": [
    {
     "data": {
      "text/plain": [
       "{'workspace': {'name': 'demo',\n",
       "  'isolated': False,\n",
       "  'dateCreated': '2024-06-05 22:58:40.292 UTC',\n",
       "  'dataStores': 'http://localhost:8080/geoserver/rest/workspaces/demo/datastores.json',\n",
       "  'coverageStores': 'http://localhost:8080/geoserver/rest/workspaces/demo/coveragestores.json',\n",
       "  'wmsStores': 'http://localhost:8080/geoserver/rest/workspaces/demo/wmsstores.json',\n",
       "  'wmtsStores': 'http://localhost:8080/geoserver/rest/workspaces/demo/wmtsstores.json'}}"
      ]
     },
     "execution_count": 8,
     "metadata": {},
     "output_type": "execute_result"
    }
   ],
   "source": [
    "geoserver.get_workspace(workspace=\"demo\")"
   ]
  },
  {
   "cell_type": "markdown",
   "metadata": {},
   "source": [
    "### Update a workspace\n",
    "\n",
    "To update a workspace, use the `update_workspace` method."
   ]
  },
  {
   "cell_type": "code",
   "execution_count": 9,
   "metadata": {},
   "outputs": [
    {
     "data": {
      "text/plain": [
       "'Updated'"
      ]
     },
     "execution_count": 9,
     "metadata": {},
     "output_type": "execute_result"
    }
   ],
   "source": [
    "# Using JSON format\n",
    "body = {\"workspace\": {\"name\": \"demo\", \"enabled\": \"true\"}}\n",
    "# Using XML format\n",
    "body = \"<workspace><name>demo</name><enabled>true</enabled></workspace>\"\n",
    "\n",
    "\n",
    "geoserver.update_workspace(workspace=\"demo\", body=body)"
   ]
  },
  {
   "cell_type": "markdown",
   "metadata": {},
   "source": [
    "### Remove a workspace\n",
    "\n",
    "To remove a workspace, use the `delete_workspace` method. This method will return a success message if the workspace is removed successfully. If the workspace is not empty, an error will be raised. To remove a workspace and all its contents, use the `recurse=True` argument.\n",
    "\n",
    "```python\n",
    "geoserver.delete_workspace(workspace=\"demo\", recurse=True)\n",
    "```"
   ]
  },
  {
   "cell_type": "markdown",
   "metadata": {},
   "source": [
    "## Datastores\n",
    "\n",
    "This section will guide you on how to interact with data stores in the GeoServer instance."
   ]
  },
  {
   "cell_type": "markdown",
   "metadata": {},
   "source": [
    "### List existing data stores\n",
    "\n",
    "To view the data stores in the workspace, use the `get_data_stores` method:"
   ]
  },
  {
   "cell_type": "code",
   "execution_count": 10,
   "metadata": {},
   "outputs": [
    {
     "data": {
      "text/plain": [
       "{'dataStores': ''}"
      ]
     },
     "execution_count": 10,
     "metadata": {},
     "output_type": "execute_result"
    }
   ],
   "source": [
    "geoserver.get_data_stores(workspace=\"demo\")"
   ]
  },
  {
   "cell_type": "markdown",
   "metadata": {},
   "source": [
    "### Create a new data stores\n",
    "\n",
    "There are different ways to create / add data in a GeoServer instance. You can either upload diretly your data (from a local file, external URL, PostGIS, etc.) or create a new data store from a data already present in the GeoServer instance (e.g. you can reference a file that is already present in the `data` directory of the geoserver).\n",
    "\n",
    "#### From a local shapefile\n",
    "\n",
    "To upload a data store from a local shapefile, use the `upload_data_store` method. This method will return a success message if the data store is created successfully."
   ]
  },
  {
   "cell_type": "code",
   "execution_count": 11,
   "metadata": {},
   "outputs": [
    {
     "data": {
      "text/plain": [
       "'Created'"
      ]
     },
     "execution_count": 11,
     "metadata": {},
     "output_type": "execute_result"
    }
   ],
   "source": [
    "# Get the shapefile\n",
    "file_path = Path(\"../tests/data/states.shp\")\n",
    "assert file_path.exists(), f\"File not found: {file_path.as_posix()!r}\"\n",
    "\n",
    "\n",
    "# If the store already exists, it will be overwritten\n",
    "geoserver.upload_data_store(file=file_path, workspace=\"demo\", store=\"states\")\n",
    "# If the `store` parameter is not provided, the name of the store will be the same as the file name\n",
    "geoserver.upload_data_store(file=file_path, workspace=\"demo\")"
   ]
  },
  {
   "cell_type": "markdown",
   "metadata": {},
   "source": [
    "#### From a file already present in the GeoServer instance\n",
    "\n",
    "Now that we have uploaded a file `states.shp` to the GeoServer instance, we can create a new data store from this file."
   ]
  },
  {
   "cell_type": "code",
   "execution_count": 12,
   "metadata": {},
   "outputs": [
    {
     "data": {
      "text/plain": [
       "'Created'"
      ]
     },
     "execution_count": 12,
     "metadata": {},
     "output_type": "execute_result"
    }
   ],
   "source": [
    "# Using JSON format\n",
    "body={\n",
    "    \"dataStore\": {\n",
    "        \"name\": \"new_states\",\n",
    "        \"connectionParameters\": {\n",
    "            \"entry\": [\n",
    "                {\"@key\":\"url\", \"$\": \"file:data/demo/states/states.shp\"},\n",
    "                {\"@key\":\"filetype\", \"$\": \"shapefile\"},\n",
    "            ]\n",
    "        }\n",
    "    }\n",
    "}\n",
    "\n",
    "\n",
    "# Using XML format\n",
    "body = \"\"\"\n",
    "<dataStore>\n",
    "    <name>new_states</name>\n",
    "    <connectionParameters>\n",
    "        <entry key=\"url\">file:data/demo/states/states.shp</entry>\n",
    "        <entry key=\"filetype\">shapefile</entry>\n",
    "    </connectionParameters>\n",
    "</dataStore>\n",
    "\"\"\"\n",
    "\n",
    "\n",
    "geoserver.create_data_store(workspace=\"demo\", body=body)"
   ]
  },
  {
   "cell_type": "markdown",
   "metadata": {},
   "source": [
    "#### From a PostGIS database\n",
    "\n",
    "You can also add a PostGIS data store to the GeoServer instance. To do this, you need to provide the database connection details."
   ]
  },
  {
   "cell_type": "code",
   "execution_count": 13,
   "metadata": {},
   "outputs": [
    {
     "data": {
      "text/plain": [
       "'Created'"
      ]
     },
     "execution_count": 13,
     "metadata": {},
     "output_type": "execute_result"
    }
   ],
   "source": [
    "# Using JSON format\n",
    "body = {\n",
    "    \"dataStore\": {\n",
    "        \"name\": \"postgis\",\n",
    "        \"description\": \"PostGIS connection\",\n",
    "        \"connectionParameters\": {\n",
    "            \"host\": \"postgis\",\n",
    "            \"port\": \"5432\",\n",
    "            \"database\": \"db\",\n",
    "            \"user\": \"admin\",\n",
    "            \"passwd\": \"postgres\",\n",
    "            \"dbtype\": \"postgis\",\n",
    "            \"schema\": \"public\",\n",
    "            \"Expose primary keys\": \"true\",\n",
    "            \"Loose bbox\": \"true\",\n",
    "            \"Estimated extends\": \"true\",\n",
    "            \"fetch size\": \"1000\",\n",
    "            \"Max open prepared statements\": \"50\",\n",
    "            \"preparedStatements\": \"false\",\n",
    "            \"validate connections\": \"true\",\n",
    "            \"validate connections on borrow\": \"true\",\n",
    "            \"validate connections on return\": \"true\",\n",
    "            \"Connection timeout\": \"20\",\n",
    "            \"Eviction run periodicity\": \"3600\",\n",
    "            \"Min evictable idle time\": \"300\",\n",
    "            \"Max active\": \"50\",\n",
    "            \"Max idle\": \"10\",\n",
    "            \"Max wait\": \"10000\",\n",
    "            \"Test on borrow\": \"true\",\n",
    "            \"Test while idle\": \"true\",\n",
    "            \"Time between eviction runs\": \"60000\",\n",
    "        }\n",
    "    }\n",
    "}\n",
    "\n",
    "# Using XML format\n",
    "body = \"\"\"\n",
    "<dataStore>\n",
    "    <name>postgis</name>\n",
    "    <description>PostGIS connection</description>\n",
    "    <connectionParameters>\n",
    "        <entry key=\"host\">postgis</entry>\n",
    "        <entry key=\"port\">5432</entry>\n",
    "        <entry key=\"database\">db</entry>\n",
    "        <entry key=\"user\">admin</entry>\n",
    "        <entry key=\"passwd\">postgres</entry>\n",
    "        <entry key=\"dbtype\">postgis</entry>\n",
    "        <entry key=\"schema\">public</entry>\n",
    "        <entry key=\"Expose primary keys\">true</entry>\n",
    "        <entry key=\"Loose bbox\">true</entry>\n",
    "        <entry key=\"Estimated extends\">true</entry>\n",
    "        <entry key=\"fetch size\">1000</entry>\n",
    "        <entry key=\"Max open prepared statements\">50</entry>\n",
    "        <entry key=\"preparedStatements\">false</entry>\n",
    "        <entry key=\"validate connections\">true</entry>\n",
    "        <entry key=\"validate connections on borrow\">true</entry>\n",
    "        <entry key=\"validate connections on return\">true</entry>\n",
    "        <entry key=\"Connection timeout\">20</entry>\n",
    "        <entry key=\"Eviction run periodicity\">3600</entry>\n",
    "        <entry key=\"Min evictable idle time\">300</entry>\n",
    "        <entry key=\"Max active\">50</entry>\n",
    "        <entry key=\"Max idle\">10</entry>\n",
    "        <entry key=\"Max wait\">10000</entry>\n",
    "        <entry key=\"Test on borrow\">true</entry>\n",
    "        <entry key=\"Test while idle\">true</entry>\n",
    "        <entry key=\"Time between eviction runs\">60000</entry>\n",
    "    </connectionParameters>\n",
    "</dataStore>\n",
    "\"\"\"\n",
    "\n",
    "\n",
    "geoserver.create_data_store(workspace=\"demo\", body=body)"
   ]
  },
  {
   "cell_type": "markdown",
   "metadata": {},
   "source": [
    "Once added, you should also publish the feature types contained in the data store. Use the `create_feature_type` method to do this."
   ]
  },
  {
   "cell_type": "code",
   "execution_count": 14,
   "metadata": {},
   "outputs": [
    {
     "data": {
      "text/plain": [
       "'Created'"
      ]
     },
     "execution_count": 14,
     "metadata": {},
     "output_type": "execute_result"
    }
   ],
   "source": [
    "# Using JSON format\n",
    "body = {\n",
    "    \"featureType\": {\n",
    "        \"name\": \"jamoat_db\",\n",
    "        \"title\": \"jamoat_db\",\n",
    "        \"advertised\": \"true\",\n",
    "    }\n",
    "}\n",
    "# Using XML format\n",
    "body = \"\"\"\n",
    "<featureType>\n",
    "    <name>jamoat_db</name>\n",
    "    <title>jamoat_db</title>\n",
    "    <advertised>true</advertised>\n",
    "</featureType>\n",
    "\"\"\"\n",
    "\n",
    "\n",
    "geoserver.create_feature_type(workspace=\"demo\", store=\"postgis\", body=body)"
   ]
  },
  {
   "cell_type": "markdown",
   "metadata": {},
   "source": [
    "### Select a data store\n",
    "\n",
    "Now that we created a datastore from a vector source, we can list it using the `get_data_stores` method."
   ]
  },
  {
   "cell_type": "code",
   "execution_count": 15,
   "metadata": {},
   "outputs": [
    {
     "data": {
      "text/plain": [
       "{'dataStore': {'name': 'states',\n",
       "  'type': 'Shapefile',\n",
       "  'enabled': True,\n",
       "  'workspace': {'name': 'demo',\n",
       "   'href': 'http://localhost:8080/geoserver/rest/workspaces/demo.json'},\n",
       "  'connectionParameters': {'entry': [{'@key': 'namespace', '$': 'http://demo'},\n",
       "    {'@key': 'url',\n",
       "     '$': 'file:/opt/geoserver/data_dir/data/demo/states/states.shp'}]},\n",
       "  '_default': False,\n",
       "  'dateCreated': '2024-06-05 22:58:40.399 UTC',\n",
       "  'dateModified': '2024-06-05 22:58:40.412 UTC',\n",
       "  'disableOnConnFailure': False,\n",
       "  'featureTypes': 'http://localhost:8080/geoserver/rest/workspaces/demo/datastores/states/featuretypes.json'}}"
      ]
     },
     "execution_count": 15,
     "metadata": {},
     "output_type": "execute_result"
    }
   ],
   "source": [
    "geoserver.get_data_store(workspace=\"demo\", store=\"states\")"
   ]
  },
  {
   "cell_type": "markdown",
   "metadata": {},
   "source": [
    "### Clear data caches\n",
    "\n",
    "You can clear the data caches using the `clear_data_store_cache` method."
   ]
  },
  {
   "cell_type": "code",
   "execution_count": 16,
   "metadata": {},
   "outputs": [
    {
     "data": {
      "text/plain": [
       "'OK'"
      ]
     },
     "execution_count": 16,
     "metadata": {},
     "output_type": "execute_result"
    }
   ],
   "source": [
    "geoserver.reset_data_store_caches(workspace=\"demo\", store=\"states\")"
   ]
  },
  {
   "cell_type": "markdown",
   "metadata": {},
   "source": [
    "### Update a data store\n",
    "\n",
    "To update a data store, use the `update_data_store` method."
   ]
  },
  {
   "cell_type": "code",
   "execution_count": 17,
   "metadata": {},
   "outputs": [
    {
     "data": {
      "text/plain": [
       "'Updated'"
      ]
     },
     "execution_count": 17,
     "metadata": {},
     "output_type": "execute_result"
    }
   ],
   "source": [
    "# Using JSON format\n",
    "body = {\n",
    "    \"dataStore\": {\n",
    "        \"name\": \"states\",\n",
    "    }\n",
    "}\n",
    "\n",
    "# Using XML format\n",
    "body = \"<dataStore><name>states</name></dataStore>\"\n",
    "\n",
    "\n",
    "geoserver.update_data_store(workspace=\"demo\", store=\"states\", body=body)"
   ]
  },
  {
   "cell_type": "markdown",
   "metadata": {},
   "source": [
    "### Remove a data store\n",
    "\n",
    "To delete a datastore, use the following command:\n",
    "\n",
    "```python\n",
    "geoserver.delete_data_store(workspace=\"demo\", datastore=\"states\")\n",
    "```"
   ]
  },
  {
   "cell_type": "markdown",
   "metadata": {},
   "source": [
    "## Coverage Stores\n",
    "\n",
    "Coverage stores are used to store raster data. A coverage is a raster based data which originates from a coverage store."
   ]
  },
  {
   "cell_type": "markdown",
   "metadata": {},
   "source": [
    "### List existing coverage stores\n",
    "\n",
    "To list the existing coverage stores, use the `get_coverage_stores` method."
   ]
  },
  {
   "cell_type": "code",
   "execution_count": 18,
   "metadata": {},
   "outputs": [
    {
     "data": {
      "text/plain": [
       "{'coverageStores': ''}"
      ]
     },
     "execution_count": 18,
     "metadata": {},
     "output_type": "execute_result"
    }
   ],
   "source": [
    "geoserver.get_coverage_stores(workspace=\"demo\")"
   ]
  },
  {
   "cell_type": "markdown",
   "metadata": {},
   "source": [
    "### Create a new coverage store\n",
    "\n",
    "You can create a coverage store from a local raster file. Use the `upload_coverage_store` method to create a new coverage store."
   ]
  },
  {
   "cell_type": "code",
   "execution_count": 19,
   "metadata": {},
   "outputs": [
    {
     "data": {
      "text/plain": [
       "'Created'"
      ]
     },
     "execution_count": 19,
     "metadata": {},
     "output_type": "execute_result"
    }
   ],
   "source": [
    "file_path = EXAMPLES_DIR / \"rasters\" / \"raster1.tif\"\n",
    "assert file_path.exists(), f\"File not found: {file_path.as_posix()!r}\"\n",
    "\n",
    "\n",
    "# If the store already exists, it will be overwritten\n",
    "geoserver.upload_coverage_store(file=file_path, format=\"geotiff\", workspace=\"demo\", store=\"raster1\")\n",
    "# If the `store` parameter is not provided, the name of the store will be the same as the file name\n",
    "geoserver.upload_coverage_store(file=file_path, format=\"geotiff\", workspace=\"demo\")"
   ]
  },
  {
   "cell_type": "markdown",
   "metadata": {},
   "source": [
    "### Select a coverage store\n",
    "\n",
    "To select a specific coverage store, use the `get_coverage_store` method."
   ]
  },
  {
   "cell_type": "code",
   "execution_count": 20,
   "metadata": {},
   "outputs": [
    {
     "data": {
      "text/plain": [
       "{'coverageStore': {'name': 'raster1',\n",
       "  'type': 'GeoTIFF',\n",
       "  'enabled': True,\n",
       "  'workspace': {'name': 'demo',\n",
       "   'href': 'http://localhost:8080/geoserver/rest/workspaces/demo.json'},\n",
       "  '_default': False,\n",
       "  'dateCreated': '2024-06-05 22:58:40.963 UTC',\n",
       "  'dateModified': '2024-06-05 22:58:41.12 UTC',\n",
       "  'disableOnConnFailure': False,\n",
       "  'url': 'file:data/demo/raster1/raster1.tif',\n",
       "  'coverages': 'http://localhost:8080/geoserver/rest/workspaces/demo/coveragestores/raster1/coverages.json'}}"
      ]
     },
     "execution_count": 20,
     "metadata": {},
     "output_type": "execute_result"
    }
   ],
   "source": [
    "geoserver.get_coverage_store(workspace=\"demo\", store=\"raster1\")"
   ]
  },
  {
   "cell_type": "markdown",
   "metadata": {},
   "source": [
    "### Update a coverage store"
   ]
  },
  {
   "cell_type": "code",
   "execution_count": 21,
   "metadata": {},
   "outputs": [
    {
     "data": {
      "text/plain": [
       "'Updated'"
      ]
     },
     "execution_count": 21,
     "metadata": {},
     "output_type": "execute_result"
    }
   ],
   "source": [
    "# Using JSON format\n",
    "body = {\n",
    "    \"coverageStore\": {\n",
    "        \"name\": \"raster1\",\n",
    "    }\n",
    "}\n",
    "\n",
    "# Using XML format\n",
    "body = \"\"\"\n",
    "<coverageStore>\n",
    "    <name>raster1</name>\n",
    "</coverageStore>\n",
    "\"\"\"\n",
    "\n",
    "\n",
    "geoserver.update_coverage_store(workspace=\"demo\", store=\"raster1\", body=body)"
   ]
  },
  {
   "cell_type": "markdown",
   "metadata": {},
   "source": [
    "### Remove a coverage store\n",
    "\n",
    "To remove a coverage store, use the `delete_coverage_store` method.\n",
    "\n",
    "```python\n",
    "geoserver.delete_coverage_store(workspace=\"demo\", store=\"raster1\", recurse=True)\n",
    "```"
   ]
  },
  {
   "cell_type": "markdown",
   "metadata": {},
   "source": [
    "## Coverages\n",
    "\n",
    "Coverages are automatically created when a coverage store is created.\n",
    "\n",
    "### List existing coverages\n",
    "\n",
    "To list the existing coverages, use the `get_coverages` method."
   ]
  },
  {
   "cell_type": "code",
   "execution_count": 22,
   "metadata": {},
   "outputs": [
    {
     "data": {
      "text/plain": [
       "{'coverages': {'coverage': [{'name': 'raster1',\n",
       "    'href': 'http://localhost:8080/geoserver/rest/workspaces/demo/coverages/raster1.json'}]}}"
      ]
     },
     "execution_count": 22,
     "metadata": {},
     "output_type": "execute_result"
    }
   ],
   "source": [
    "geoserver.get_coverages(workspace=\"demo\")"
   ]
  },
  {
   "cell_type": "markdown",
   "metadata": {},
   "source": [
    "### Select a coverage\n",
    "\n",
    "To select a specific coverage, use the `get_coverage` method."
   ]
  },
  {
   "cell_type": "code",
   "execution_count": 23,
   "metadata": {},
   "outputs": [
    {
     "data": {
      "text/plain": [
       "{'coverage': {'name': 'raster1',\n",
       "  'nativeName': 'raster1',\n",
       "  'namespace': {'name': 'demo',\n",
       "   'href': 'http://localhost:8080/geoserver/rest/namespaces/demo.json'},\n",
       "  'title': 'raster1',\n",
       "  'description': 'Generated from GeoTIFF',\n",
       "  'keywords': {'string': ['raster1', 'WCS', 'GeoTIFF']},\n",
       "  'nativeCRS': {'@class': 'projected',\n",
       "   '$': 'PROJCS[\"WGS 84 / UTM zone 42N\", \\n  GEOGCS[\"WGS 84\", \\n    DATUM[\"World Geodetic System 1984\", \\n      SPHEROID[\"WGS 84\", 6378137.0, 298.257223563, AUTHORITY[\"EPSG\",\"7030\"]], \\n      AUTHORITY[\"EPSG\",\"6326\"]], \\n    PRIMEM[\"Greenwich\", 0.0, AUTHORITY[\"EPSG\",\"8901\"]], \\n    UNIT[\"degree\", 0.017453292519943295], \\n    AXIS[\"Geodetic longitude\", EAST], \\n    AXIS[\"Geodetic latitude\", NORTH], \\n    AUTHORITY[\"EPSG\",\"4326\"]], \\n  PROJECTION[\"Transverse_Mercator\", AUTHORITY[\"EPSG\",\"9807\"]], \\n  PARAMETER[\"central_meridian\", 69.0], \\n  PARAMETER[\"latitude_of_origin\", 0.0], \\n  PARAMETER[\"scale_factor\", 0.9996], \\n  PARAMETER[\"false_easting\", 500000.0], \\n  PARAMETER[\"false_northing\", 0.0], \\n  UNIT[\"m\", 1.0], \\n  AXIS[\"Easting\", EAST], \\n  AXIS[\"Northing\", NORTH], \\n  AUTHORITY[\"EPSG\",\"32642\"]]'},\n",
       "  'srs': 'EPSG:32642',\n",
       "  'nativeBoundingBox': {'minx': 347608.02066376124,\n",
       "   'maxx': 1047118.0206637613,\n",
       "   'miny': 4044418.1014690083,\n",
       "   'maxy': 4562818.101469008,\n",
       "   'crs': {'@class': 'projected', '$': 'EPSG:32642'}},\n",
       "  'latLonBoundingBox': {'minx': 67.1824694513505,\n",
       "   'maxx': 75.50671742483037,\n",
       "   'miny': 36.38912694787832,\n",
       "   'maxy': 41.2164310996249,\n",
       "   'crs': 'EPSG:4326'},\n",
       "  'projectionPolicy': 'REPROJECT_TO_DECLARED',\n",
       "  'enabled': True,\n",
       "  'advertised': True,\n",
       "  'metadata': {'entry': {'@key': 'dirName', '$': 'raster1_null'}},\n",
       "  'store': {'@class': 'coverageStore',\n",
       "   'name': 'demo:raster1',\n",
       "   'href': 'http://localhost:8080/geoserver/rest/workspaces/demo/coveragestores/raster1.json'},\n",
       "  'serviceConfiguration': False,\n",
       "  'simpleConversionEnabled': False,\n",
       "  'nativeFormat': 'GeoTIFF',\n",
       "  'grid': {'@dimension': 2,\n",
       "   'range': {'low': '0 0', 'high': '23317 17280'},\n",
       "   'transform': {'scaleX': 30,\n",
       "    'scaleY': -30,\n",
       "    'shearX': 0,\n",
       "    'shearY': 0,\n",
       "    'translateX': 347623.02066376124,\n",
       "    'translateY': 4562803.101469008},\n",
       "   'crs': 'EPSG:32642'},\n",
       "  'supportedFormats': {'string': ['DTED',\n",
       "    'ERDASImg',\n",
       "    'ImagePyramid',\n",
       "    'GEOTIFF',\n",
       "    'EHdr',\n",
       "    'GIF',\n",
       "    'PNG',\n",
       "    'JPEG',\n",
       "    'TIFF',\n",
       "    'ENVIHdr',\n",
       "    'NITF',\n",
       "    'ImageMosaic',\n",
       "    'NetCDF',\n",
       "    'SRP',\n",
       "    'GeoPackage (mosaic)',\n",
       "    'RPFTOC',\n",
       "    'VRT',\n",
       "    'ArcGrid',\n",
       "    'RST',\n",
       "    'AIG']},\n",
       "  'interpolationMethods': {'string': ['nearest neighbor',\n",
       "    'bilinear',\n",
       "    'bicubic']},\n",
       "  'defaultInterpolationMethod': 'nearest neighbor',\n",
       "  'dimensions': {'coverageDimension': {'name': 'PALETTE_INDEX',\n",
       "    'description': 'GridSampleDimension[-Infinity,Infinity]',\n",
       "    'range': {'min': '-inf', 'max': 'inf'},\n",
       "    'nullValues': {'double': 0},\n",
       "    'dimensionType': {'name': 'UNSIGNED_2BITS'}}},\n",
       "  'requestSRS': {'string': 'EPSG:32642'},\n",
       "  'responseSRS': {'string': 'EPSG:32642'},\n",
       "  'parameters': {'entry': [{'string': ['InputTransparentColor', '']},\n",
       "    {'string': ['SUGGESTED_TILE_SIZE', '512,512']},\n",
       "    {'string': ['Bands', '']},\n",
       "    {'string': ['RescalePixels', True]}]},\n",
       "  'nativeCoverageName': 'raster1'}}"
      ]
     },
     "execution_count": 23,
     "metadata": {},
     "output_type": "execute_result"
    }
   ],
   "source": [
    "geoserver.get_coverage(workspace=\"demo\", coverage=\"raster1\")"
   ]
  },
  {
   "cell_type": "markdown",
   "metadata": {},
   "source": [
    "## Styles\n",
    "\n",
    "The REST API allows you to list, create, upload, update, and delete styles in GeoServer.\n",
    "\n",
    "### Listing all styles\n",
    "\n",
    "To list all the styles in the GeoServer instance, use the `get_styles` method."
   ]
  },
  {
   "cell_type": "code",
   "execution_count": 24,
   "metadata": {},
   "outputs": [
    {
     "data": {
      "text/plain": [
       "{'styles': {'style': [{'name': 'generic',\n",
       "    'href': 'http://localhost:8080/geoserver/rest/styles/generic.json'},\n",
       "   {'name': 'line',\n",
       "    'href': 'http://localhost:8080/geoserver/rest/styles/line.json'},\n",
       "   {'name': 'point',\n",
       "    'href': 'http://localhost:8080/geoserver/rest/styles/point.json'},\n",
       "   {'name': 'polygon',\n",
       "    'href': 'http://localhost:8080/geoserver/rest/styles/polygon.json'},\n",
       "   {'name': 'raster',\n",
       "    'href': 'http://localhost:8080/geoserver/rest/styles/raster.json'}]}}"
      ]
     },
     "execution_count": 24,
     "metadata": {},
     "output_type": "execute_result"
    }
   ],
   "source": [
    "geoserver.get_styles()"
   ]
  },
  {
   "cell_type": "markdown",
   "metadata": {},
   "source": [
    "### Retrieve a style\n",
    "\n",
    "To get a specific style, use the `get_style` method."
   ]
  },
  {
   "cell_type": "code",
   "execution_count": 25,
   "metadata": {},
   "outputs": [
    {
     "data": {
      "text/plain": [
       "{'style': {'name': 'point',\n",
       "  'format': 'sld',\n",
       "  'languageVersion': {'version': '1.0.0'},\n",
       "  'filename': 'default_point.sld'}}"
      ]
     },
     "execution_count": 25,
     "metadata": {},
     "output_type": "execute_result"
    }
   ],
   "source": [
    "geoserver.get_style(style=\"point\")"
   ]
  },
  {
   "cell_type": "markdown",
   "metadata": {},
   "source": [
    "### Creating a style\n",
    "\n",
    "You can create a new style on the server in two ways. In the first way, the creation is done in two steps: the style entry is created in the catalog, and then the style content is uploaded.\n",
    "The second way can add the style to the server in a single step by uploading a file containing the style content.\n",
    "\n",
    "\n",
    "#### Create a new style in two steps"
   ]
  },
  {
   "cell_type": "code",
   "execution_count": 26,
   "metadata": {},
   "outputs": [
    {
     "data": {
      "text/plain": [
       "'Created'"
      ]
     },
     "execution_count": 26,
     "metadata": {},
     "output_type": "execute_result"
    }
   ],
   "source": [
    "# Using XML format\n",
    "body = \"\"\"\n",
    "<style>\n",
    "    <name>raster1</name>\n",
    "    <filename>raster1.sld</filename>\n",
    "</style>\n",
    "\"\"\"\n",
    "\n",
    "geoserver.create_style(body=body, workspace=\"demo\")"
   ]
  },
  {
   "cell_type": "code",
   "execution_count": 27,
   "metadata": {},
   "outputs": [],
   "source": [
    "# Get the styles associated to the raster layer\n",
    "file_path = EXAMPLES_DIR / \"styles\" / \"raster1.sld\"\n",
    "assert file_path.exists(), f\"File not found: {file_path.as_posix()!r}\"\n",
    "\n",
    "\n",
    "with open(file_path, \"r\") as file:\n",
    "    body = file.read()\n",
    "\n",
    "    \n",
    "# geoserver.update_style(style=\"raster1\", body=body, workspace=\"demo\")"
   ]
  },
  {
   "cell_type": "markdown",
   "metadata": {},
   "source": [
    "#### Uploading a style from an SLD file"
   ]
  },
  {
   "cell_type": "code",
   "execution_count": 28,
   "metadata": {},
   "outputs": [],
   "source": [
    "# Get the styles associated to the raster layer\n",
    "file_path = EXAMPLES_DIR / \"styles\" / \"raster1.sld\"\n",
    "assert file_path.exists(), f\"File not found: {file_path.as_posix()!r}\"\n",
    "\n",
    "\n",
    "# geoserver.upload_style(file=file_path, workspace=\"demo\", style=\"raster1_v2\")"
   ]
  },
  {
   "cell_type": "markdown",
   "metadata": {},
   "source": [
    "### Changing an existing style\n",
    "\n",
    "To update a style, use the `update_style` method."
   ]
  },
  {
   "cell_type": "code",
   "execution_count": 29,
   "metadata": {},
   "outputs": [
    {
     "data": {
      "text/plain": [
       "'Updated'"
      ]
     },
     "execution_count": 29,
     "metadata": {},
     "output_type": "execute_result"
    }
   ],
   "source": [
    "# Get the styles associated to the raster layer\n",
    "file_path = EXAMPLES_DIR / \"styles\" / \"raster1.sld\"\n",
    "assert file_path.exists(), f\"File not found: {file_path.as_posix()!r}\"\n",
    "\n",
    "\n",
    "with open(file_path, \"r\") as file:\n",
    "    body = file.read()\n",
    "\n",
    "    \n",
    "geoserver.update_style(style=\"raster1\", body=body, workspace=\"demo\")"
   ]
  },
  {
   "cell_type": "markdown",
   "metadata": {},
   "source": [
    "### Downloading a style\n",
    "\n",
    "The SLD itself can be downloaded using the `download_style` method."
   ]
  },
  {
   "cell_type": "code",
   "execution_count": 30,
   "metadata": {},
   "outputs": [
    {
     "name": "stdout",
     "output_type": "stream",
     "text": [
      "<?xml version=\"1.0\" encoding=\"UTF-8\"?><sld:StyledLayerDescriptor xmlns=\"http://www.opengis.net/sld\" xmlns:sld=\"http://www.opengis.net/sld\" xmlns:gml=\"http://www.opengis.net/gml\" xmlns:ogc=\"http://www.opengis.net/ogc\" version=\"1.0.0\">\n",
      "  <sld:NamedLayer>\n",
      "    <sld:Name>raster1</sld:Name>\n",
      "    <sld:UserStyle>\n",
      "      <sld:Name>raster1</sld:Name>\n",
      "      <sld:FeatureTypeStyle>\n",
      "        <sld:Name>name</sld:Name>\n",
      "        <sld:Rule>\n",
      "          <sld:RasterSymbolizer>\n",
      "            <sld:ChannelSelection>\n",
      "              <sld:GrayChannel>\n",
      "                <sld:SourceChannelName>1</sld:SourceChannelName>\n",
      "                <sld:ContrastEnhancement>\n",
      "                  <sld:GammaValue>1.0</sld:GammaValue>\n",
      "                </sld:ContrastEnhancement>\n",
      "              </sld:GrayChannel>\n",
      "            </sld:ChannelSelection>\n",
      "            <sld:ColorMap type=\"values\">\n",
      "              <sld:ColorMapEntry color=\"#13de13\" quantity=\"1\" label=\"class 1\"/>\n",
      "              <sld:ColorMapEntry color=\"#4d4def\" quantity=\"2\" label=\"class 2\"/>\n",
      "              <sld:ColorMapEntry color=\"#dc0f0f\" quantity=\"3\" label=\"class 3\"/>\n",
      "            </sld:ColorMap>\n",
      "            <sld:ContrastEnhancement/>\n",
      "          </sld:RasterSymbolizer>\n",
      "        </sld:Rule>\n",
      "      </sld:FeatureTypeStyle>\n",
      "    </sld:UserStyle>\n",
      "  </sld:NamedLayer>\n",
      "</sld:StyledLayerDescriptor>\n",
      "\n",
      "\n"
     ]
    }
   ],
   "source": [
    "xml = geoserver.download_style(style=\"raster1\", workspace=\"demo\")\n",
    "print(xml)"
   ]
  },
  {
   "cell_type": "markdown",
   "metadata": {},
   "source": [
    "### Deleting a style\n",
    "\n",
    "To delete a style, use the `delete_style` method. You can use the `purge=True` argument to remove the style and all its references."
   ]
  },
  {
   "cell_type": "markdown",
   "metadata": {},
   "source": []
  }
 ],
 "metadata": {
  "kernelspec": {
   "display_name": ".venv",
   "language": "python",
   "name": "python3"
  },
  "language_info": {
   "codemirror_mode": {
    "name": "ipython",
    "version": 3
   },
   "file_extension": ".py",
   "mimetype": "text/x-python",
   "name": "python",
   "nbconvert_exporter": "python",
   "pygments_lexer": "ipython3",
   "version": "3.12.2"
  }
 },
 "nbformat": 4,
 "nbformat_minor": 2
}
