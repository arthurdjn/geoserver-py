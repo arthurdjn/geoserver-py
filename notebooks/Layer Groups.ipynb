{
 "cells": [
  {
   "cell_type": "markdown",
   "metadata": {},
   "source": [
    "# Layer Groups\n",
    "\n",
    "The REST API allows you to create and modify layer groups in GeoServer.\n",
    "\n",
    "> **Note:** <br> \n",
    "> You can find the official example at [https://docs.geoserver.org/2.25.x/en/user/rest/layergroups.html](https://docs.geoserver.org/2.25.x/en/user/rest/layergroups.html)"
   ]
  },
  {
   "cell_type": "markdown",
   "metadata": {},
   "source": [
    "## Setup\n",
    "\n",
    "### Imports\n",
    "\n",
    "First, we need to import the necessary modules and classes."
   ]
  },
  {
   "cell_type": "code",
   "execution_count": 1,
   "metadata": {},
   "outputs": [],
   "source": [
    "from pathlib import Path\n",
    "from geoserver import GeoServer"
   ]
  },
  {
   "cell_type": "markdown",
   "metadata": {},
   "source": [
    "### GeoServer Connection\n",
    "\n",
    "Connect to the running GeoServer instance and create a workspace and a store."
   ]
  },
  {
   "cell_type": "code",
   "execution_count": 2,
   "metadata": {},
   "outputs": [],
   "source": [
    "# Setup the geoserver instance\n",
    "geoserver = GeoServer(\n",
    "    service_url=\"http://localhost:8080/geoserver\",\n",
    "    username=\"admin\",\n",
    "    password=\"geoserver\",\n",
    ")"
   ]
  },
  {
   "cell_type": "markdown",
   "metadata": {},
   "source": [
    "Let's clean up existing layer groups before we start."
   ]
  },
  {
   "cell_type": "code",
   "execution_count": 3,
   "metadata": {},
   "outputs": [
    {
     "data": {
      "text/plain": [
       "'Created'"
      ]
     },
     "execution_count": 3,
     "metadata": {},
     "output_type": "execute_result"
    }
   ],
   "source": [
    "if geoserver.workspace_exists(\"demo\"):\n",
    "    geoserver.delete_workspace(\"demo\", recurse=True)\n",
    "\n",
    "geoserver.create_workspace_from_name(\"demo\")"
   ]
  },
  {
   "cell_type": "markdown",
   "metadata": {},
   "source": [
    "### Config\n",
    "\n",
    "We'll set up the configuration for the notebook:"
   ]
  },
  {
   "cell_type": "code",
   "execution_count": 4,
   "metadata": {},
   "outputs": [],
   "source": [
    "# Directory containing sample data\n",
    "DATA_DIR = Path(\"../tests/data\")\n",
    "assert DATA_DIR.exists(), f\"The directory {DATA_DIR} does not exist.\""
   ]
  },
  {
   "cell_type": "markdown",
   "metadata": {},
   "source": [
    "## Listing layer groups\n",
    "\n",
    "To list all layer groups, use the `get_layer_groups` method."
   ]
  },
  {
   "cell_type": "code",
   "execution_count": 5,
   "metadata": {},
   "outputs": [
    {
     "data": {
      "text/plain": [
       "{'layerGroups': ''}"
      ]
     },
     "execution_count": 5,
     "metadata": {},
     "output_type": "execute_result"
    }
   ],
   "source": [
    "geoserver.get_layer_groups(workspace=\"demo\")"
   ]
  },
  {
   "cell_type": "markdown",
   "metadata": {},
   "source": [
    "## Creating a layer group\n",
    "\n",
    "To create a layer group, use the `create_layer_group` method."
   ]
  },
  {
   "cell_type": "markdown",
   "metadata": {},
   "source": [
    "First, make sure you have setup the layers you want to include in the layer group."
   ]
  },
  {
   "cell_type": "code",
   "execution_count": 6,
   "metadata": {},
   "outputs": [
    {
     "data": {
      "text/plain": [
       "'Created'"
      ]
     },
     "execution_count": 6,
     "metadata": {},
     "output_type": "execute_result"
    }
   ],
   "source": [
    "# Add a coverage store\n",
    "file_path = DATA_DIR / \"rasters\" / \"raster.tif\"\n",
    "assert file_path.exists(), f\"File not found: {file_path.as_posix()!r}\"\n",
    "\n",
    "geoserver.upload_coverage_store(file=file_path, workspace=\"demo\", format=\"geotiff\")\n",
    "\n",
    "\n",
    "# Add a vector store\n",
    "file_path = DATA_DIR / \"vectors\" / \"buildings.shp\"\n",
    "assert file_path.exists(), f\"File not found: {file_path.as_posix()!r}\"\n",
    "\n",
    "geoserver.upload_data_store(file=file_path, workspace=\"demo\", format=\"shp\")"
   ]
  },
  {
   "cell_type": "code",
   "execution_count": 7,
   "metadata": {},
   "outputs": [
    {
     "data": {
      "text/plain": [
       "'Created'"
      ]
     },
     "execution_count": 7,
     "metadata": {},
     "output_type": "execute_result"
    }
   ],
   "source": [
    "# Using XML format\n",
    "body = \"\"\"\n",
    "<layerGroup>\n",
    "  <name>my_group</name>\n",
    "  <layers>\n",
    "    <layer>buildings</layer>\n",
    "    <layer>raster</layer>\n",
    "  </layers>\n",
    "  <styles>\n",
    "    <style>polygon</style>\n",
    "    <style>raster</style>\n",
    "  </styles>\n",
    "</layerGroup>\n",
    "\"\"\"\n",
    "\n",
    "geoserver.create_layer_group(body=body, workspace=\"demo\")"
   ]
  },
  {
   "cell_type": "markdown",
   "metadata": {},
   "source": [
    "## Retrieving a layer group\n",
    "\n",
    "To retrieve a layer group, use the `get_layer_group` method."
   ]
  },
  {
   "cell_type": "code",
   "execution_count": 8,
   "metadata": {},
   "outputs": [
    {
     "data": {
      "text/plain": [
       "{'layerGroup': {'name': 'my_group',\n",
       "  'mode': 'SINGLE',\n",
       "  'workspace': {'name': 'demo'},\n",
       "  'publishables': {'published': [{'@type': 'layer',\n",
       "     'name': 'demo:buildings',\n",
       "     'href': 'http://localhost:8080/geoserver/rest/workspaces/demo/layers/buildings.json'},\n",
       "    {'@type': 'layer',\n",
       "     'name': 'demo:raster',\n",
       "     'href': 'http://localhost:8080/geoserver/rest/workspaces/demo/layers/raster.json'}]},\n",
       "  'styles': {'style': [{'name': 'polygon',\n",
       "     'href': 'http://localhost:8080/geoserver/rest/styles/polygon.json'},\n",
       "    {'name': 'raster',\n",
       "     'href': 'http://localhost:8080/geoserver/rest/styles/raster.json'}]},\n",
       "  'bounds': {'minx': -1.514093836,\n",
       "   'maxx': -1.508900084,\n",
       "   'miny': 48.63391919,\n",
       "   'maxy': 48.638064247,\n",
       "   'crs': {'@class': 'org.geotools.referencing.crs.DefaultEngineeringCRS',\n",
       "    '$': 'EPSG:404000'}},\n",
       "  'dateCreated': '2024-06-10 20:11:15.54 UTC'}}"
      ]
     },
     "execution_count": 8,
     "metadata": {},
     "output_type": "execute_result"
    }
   ],
   "source": [
    "geoserver.get_layer_group(layer_group=\"my_group\", workspace=\"demo\")"
   ]
  },
  {
   "cell_type": "markdown",
   "metadata": {},
   "source": [
    "## Changing a layer group\n",
    "\n",
    "To update a layer group, use the `update_layer_group` method."
   ]
  },
  {
   "cell_type": "code",
   "execution_count": 9,
   "metadata": {},
   "outputs": [
    {
     "data": {
      "text/plain": [
       "'Updated'"
      ]
     },
     "execution_count": 9,
     "metadata": {},
     "output_type": "execute_result"
    }
   ],
   "source": [
    "# Using XML format\n",
    "body = \"\"\"\n",
    "<layerGroup>\n",
    "    <name>my_group</name>\n",
    "    <layers>\n",
    "        <layer>buildings</layer>\n",
    "    </layers>\n",
    "    <styles>\n",
    "        <style>polygon</style>\n",
    "    </styles>\n",
    "</layerGroup>\n",
    "\"\"\"\n",
    "\n",
    "geoserver.update_layer_group(body=body, layer_group=\"my_group\", workspace=\"demo\")"
   ]
  },
  {
   "cell_type": "markdown",
   "metadata": {},
   "source": [
    "## Removing a layer group\n",
    "\n",
    "To remove a layer group, use the `delete_layer_group` method."
   ]
  },
  {
   "cell_type": "code",
   "execution_count": 10,
   "metadata": {},
   "outputs": [
    {
     "data": {
      "text/plain": [
       "'Deleted'"
      ]
     },
     "execution_count": 10,
     "metadata": {},
     "output_type": "execute_result"
    }
   ],
   "source": [
    "geoserver.delete_layer_group(layer_group=\"my_group\", workspace=\"demo\")"
   ]
  }
 ],
 "metadata": {
  "kernelspec": {
   "display_name": ".venv",
   "language": "python",
   "name": "python3"
  },
  "language_info": {
   "codemirror_mode": {
    "name": "ipython",
    "version": 3
   },
   "file_extension": ".py",
   "mimetype": "text/x-python",
   "name": "python",
   "nbconvert_exporter": "python",
   "pygments_lexer": "ipython3",
   "version": "3.12.2"
  }
 },
 "nbformat": 4,
 "nbformat_minor": 2
}
