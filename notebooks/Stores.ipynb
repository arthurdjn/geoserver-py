{
 "cells": [
  {
   "cell_type": "markdown",
   "metadata": {},
   "source": [
    "# Stores\n",
    "\n",
    "> **Note:** <br> \n",
    "> You can find the official example at [https://docs.geoserver.org/2.25.x/en/user/rest/stores.html](https://docs.geoserver.org/2.25.x/en/user/rest/stores.html)"
   ]
  },
  {
   "cell_type": "markdown",
   "metadata": {},
   "source": [
    "## Setup\n",
    "\n",
    "### Imports\n",
    "\n",
    "First, we need to import the necessary modules and classes."
   ]
  },
  {
   "cell_type": "code",
   "execution_count": 1,
   "metadata": {},
   "outputs": [],
   "source": [
    "from pathlib import Path\n",
    "from geoserver import GeoServer\n",
    "from geoserver.exceptions import GeoServerError"
   ]
  },
  {
   "cell_type": "markdown",
   "metadata": {},
   "source": [
    "### GeoServer Connection\n",
    "\n",
    "Connect to the running GeoServer instance and create a workspace and a store."
   ]
  },
  {
   "cell_type": "code",
   "execution_count": 2,
   "metadata": {},
   "outputs": [],
   "source": [
    "# Setup the geoserver instance\n",
    "geoserver = GeoServer(\n",
    "    service_url=\"http://localhost:8080/geoserver\",\n",
    "    username=\"admin\",\n",
    "    password=\"geoserver\",\n",
    ")"
   ]
  },
  {
   "cell_type": "markdown",
   "metadata": {},
   "source": [
    "Clean up the workspace and store after running the examples."
   ]
  },
  {
   "cell_type": "code",
   "execution_count": 3,
   "metadata": {},
   "outputs": [
    {
     "data": {
      "text/plain": [
       "'Created'"
      ]
     },
     "execution_count": 3,
     "metadata": {},
     "output_type": "execute_result"
    }
   ],
   "source": [
    "if geoserver.workspace_exists(\"demo\"):\n",
    "    geoserver.delete_workspace(\"demo\", recurse=True)\n",
    "\n",
    "geoserver.create_workspace_from_name(\"demo\")"
   ]
  },
  {
   "cell_type": "markdown",
   "metadata": {},
   "source": [
    "### Config\n",
    "\n",
    "We'll set up the configuration for the notebook:"
   ]
  },
  {
   "cell_type": "code",
   "execution_count": 4,
   "metadata": {},
   "outputs": [],
   "source": [
    "# Directory containing sample data\n",
    "EXAMPLES_DIR = Path(\"../examples\")\n",
    "assert EXAMPLES_DIR.exists(), f\"The directory {EXAMPLES_DIR} does not exist.\""
   ]
  },
  {
   "cell_type": "markdown",
   "metadata": {},
   "source": [
    "## Uploading a shapefile\n",
    "\n",
    "Create a new store `roads` by uploading a shapefile `roads.zip`."
   ]
  },
  {
   "cell_type": "code",
   "execution_count": 5,
   "metadata": {},
   "outputs": [
    {
     "data": {
      "text/plain": [
       "'Created'"
      ]
     },
     "execution_count": 5,
     "metadata": {},
     "output_type": "execute_result"
    }
   ],
   "source": [
    "file_path = EXAMPLES_DIR / \"vectors\" / \"roads.zip\"\n",
    "assert file_path.exists(), f\"The file {file_path.as_posix()!r} does not exist.\"\n",
    "\n",
    "\n",
    "geoserver.upload_data_store(file=file_path, workspace=\"demo\")"
   ]
  },
  {
   "cell_type": "markdown",
   "metadata": {},
   "source": [
    "## Retrieving a store\n",
    "\n",
    "Retrieve information about a specific store. You can specify the response format as JSON or XML using the `format` parameter."
   ]
  },
  {
   "cell_type": "code",
   "execution_count": 6,
   "metadata": {},
   "outputs": [
    {
     "data": {
      "text/plain": [
       "{'dataStore': {'name': 'roads',\n",
       "  'type': 'Shapefile',\n",
       "  'enabled': True,\n",
       "  'workspace': {'name': 'demo',\n",
       "   'href': 'http://localhost:8080/geoserver/rest/workspaces/demo.json'},\n",
       "  'connectionParameters': {'entry': [{'@key': 'namespace', '$': 'http://demo'},\n",
       "    {'@key': 'url', '$': 'file:/opt/geoserver/data_dir/data/demo/roads/'}]},\n",
       "  '_default': False,\n",
       "  'dateCreated': '2024-06-05 22:59:52.539 UTC',\n",
       "  'disableOnConnFailure': False,\n",
       "  'featureTypes': 'http://localhost:8080/geoserver/rest/workspaces/demo/datastores/roads/featuretypes.json'}}"
      ]
     },
     "execution_count": 6,
     "metadata": {},
     "output_type": "execute_result"
    }
   ],
   "source": [
    "geoserver.get_data_store(workspace=\"demo\", store=\"roads\")"
   ]
  },
  {
   "cell_type": "code",
   "execution_count": 7,
   "metadata": {},
   "outputs": [
    {
     "name": "stdout",
     "output_type": "stream",
     "text": [
      "<dataStore>\n",
      "  <name>roads</name>\n",
      "  <type>Shapefile</type>\n",
      "  <enabled>true</enabled>\n",
      "  <workspace>\n",
      "    <name>demo</name>\n",
      "    <atom:link xmlns:atom=\"http://www.w3.org/2005/Atom\" rel=\"alternate\" href=\"http://localhost:8080/geoserver/rest/workspaces/demo.xml\" type=\"application/xml\"/>\n",
      "  </workspace>\n",
      "  <connectionParameters>\n",
      "    <entry key=\"namespace\">http://demo</entry>\n",
      "    <entry key=\"url\">file:/opt/geoserver/data_dir/data/demo/roads/</entry>\n",
      "  </connectionParameters>\n",
      "  <__default>false</__default>\n",
      "  <dateCreated>2024-06-05 22:59:52.539 UTC</dateCreated>\n",
      "  <disableOnConnFailure>false</disableOnConnFailure>\n",
      "  <featureTypes>\n",
      "    <atom:link xmlns:atom=\"http://www.w3.org/2005/Atom\" rel=\"alternate\" href=\"http://localhost:8080/geoserver/rest/workspaces/demo/datastores/roads/featuretypes.xml\" type=\"application/xml\"/>\n",
      "  </featureTypes>\n",
      "</dataStore>\n"
     ]
    }
   ],
   "source": [
    "xml = geoserver.get_data_store(workspace=\"demo\", store=\"roads\", format=\"xml\")\n",
    "print(xml)"
   ]
  },
  {
   "cell_type": "markdown",
   "metadata": {},
   "source": [
    "## Listing featuretype details\n",
    "\n",
    "By default when a shapefile is uploaded, a featuretype is automatically created. This is true only if you use the `upload_data_store` method. If you use the `create_data_store` method, you will have to create the featuretype manually."
   ]
  },
  {
   "cell_type": "code",
   "execution_count": 8,
   "metadata": {},
   "outputs": [
    {
     "data": {
      "text/plain": [
       "{'featureType': {'name': 'roads',\n",
       "  'nativeName': 'roads',\n",
       "  'namespace': {'name': 'demo',\n",
       "   'href': 'http://localhost:8080/geoserver/rest/namespaces/demo.json'},\n",
       "  'title': 'roads',\n",
       "  'keywords': {'string': ['features', 'roads']},\n",
       "  'srs': 'EPSG:404000',\n",
       "  'nativeBoundingBox': {'minx': 971280.0291221511,\n",
       "   'maxx': 1009968.0258890537,\n",
       "   'miny': 188493.74372751566,\n",
       "   'maxy': 259547.82405279655},\n",
       "  'latLonBoundingBox': {'minx': 971280.0291221511,\n",
       "   'maxx': 1009968.0258890537,\n",
       "   'miny': 188493.74372751566,\n",
       "   'maxy': 259547.82405279655,\n",
       "   'crs': 'EPSG:4326'},\n",
       "  'projectionPolicy': 'FORCE_DECLARED',\n",
       "  'enabled': True,\n",
       "  'store': {'@class': 'dataStore',\n",
       "   'name': 'demo:roads',\n",
       "   'href': 'http://localhost:8080/geoserver/rest/workspaces/demo/datastores/roads.json'},\n",
       "  'serviceConfiguration': False,\n",
       "  'simpleConversionEnabled': False,\n",
       "  'maxFeatures': 0,\n",
       "  'numDecimals': 0,\n",
       "  'padWithZeros': False,\n",
       "  'forcedDecimal': False,\n",
       "  'overridingServiceSRS': False,\n",
       "  'skipNumberMatched': False,\n",
       "  'circularArcPresent': False,\n",
       "  'attributes': {'attribute': [{'name': 'the_geom',\n",
       "     'minOccurs': 0,\n",
       "     'maxOccurs': 1,\n",
       "     'nillable': True,\n",
       "     'binding': 'org.locationtech.jts.geom.MultiLineString'},\n",
       "    {'name': 'modified',\n",
       "     'minOccurs': 0,\n",
       "     'maxOccurs': 1,\n",
       "     'nillable': True,\n",
       "     'binding': 'java.lang.String',\n",
       "     'length': 25},\n",
       "    {'name': 'name',\n",
       "     'minOccurs': 0,\n",
       "     'maxOccurs': 1,\n",
       "     'nillable': True,\n",
       "     'binding': 'java.lang.String',\n",
       "     'length': 32},\n",
       "    {'name': 'vsam',\n",
       "     'minOccurs': 0,\n",
       "     'maxOccurs': 1,\n",
       "     'nillable': True,\n",
       "     'binding': 'java.lang.Long',\n",
       "     'length': 20},\n",
       "    {'name': 'sourcedate',\n",
       "     'minOccurs': 0,\n",
       "     'maxOccurs': 1,\n",
       "     'nillable': True,\n",
       "     'binding': 'java.lang.String',\n",
       "     'length': 25},\n",
       "    {'name': 'sourcetype',\n",
       "     'minOccurs': 0,\n",
       "     'maxOccurs': 1,\n",
       "     'nillable': True,\n",
       "     'binding': 'java.lang.String',\n",
       "     'length': 15},\n",
       "    {'name': 'source_id',\n",
       "     'minOccurs': 0,\n",
       "     'maxOccurs': 1,\n",
       "     'nillable': True,\n",
       "     'binding': 'java.lang.Long',\n",
       "     'length': 20},\n",
       "    {'name': 'borough',\n",
       "     'minOccurs': 0,\n",
       "     'maxOccurs': 1,\n",
       "     'nillable': True,\n",
       "     'binding': 'java.lang.String',\n",
       "     'length': 13},\n",
       "    {'name': 'feat_code',\n",
       "     'minOccurs': 0,\n",
       "     'maxOccurs': 1,\n",
       "     'nillable': True,\n",
       "     'binding': 'java.lang.Integer',\n",
       "     'length': 6},\n",
       "    {'name': 'feat_desc',\n",
       "     'minOccurs': 0,\n",
       "     'maxOccurs': 1,\n",
       "     'nillable': True,\n",
       "     'binding': 'java.lang.String',\n",
       "     'length': 50},\n",
       "    {'name': 'exported',\n",
       "     'minOccurs': 0,\n",
       "     'maxOccurs': 1,\n",
       "     'nillable': True,\n",
       "     'binding': 'java.lang.String',\n",
       "     'length': 12},\n",
       "    {'name': 'feat_type',\n",
       "     'minOccurs': 0,\n",
       "     'maxOccurs': 1,\n",
       "     'nillable': True,\n",
       "     'binding': 'java.lang.Long',\n",
       "     'length': 11}]}}}"
      ]
     },
     "execution_count": 8,
     "metadata": {},
     "output_type": "execute_result"
    }
   ],
   "source": [
    "geoserver.get_feature_type(workspace=\"demo\", featuretype=\"roads\")"
   ]
  },
  {
   "cell_type": "markdown",
   "metadata": {},
   "source": [
    "## Adding an existing shapefile\n",
    "\n",
    "Publish a shapefile that already exists on the server without needing to be uploaded. We will use the `roads` store that we created earlier.\n",
    "\n",
    "```python\n",
    "geoserver.upload_data_store(\n",
    "    file=\"file:/opt/geoserver/data_dir/data/demo/roads/roads.shp\", \n",
    "    workspace=\"demo\", \n",
    "    store=\"roads2\",\n",
    "    filename=\"roads2.shp\",\n",
    ")\n",
    "```"
   ]
  },
  {
   "cell_type": "markdown",
   "metadata": {},
   "source": [
    "## Adding a directory of existing shapefiles\n",
    "\n",
    "Create a store containing a directory of shapefiles that already exists on the server without needing to be uploaded.\n",
    "\n",
    "```python\n",
    "geoserver.upload_data_store(\n",
    "    file=\"file:/opt/geoserver/data_dir/data/demo\", \n",
    "    workspace=\"demo\", \n",
    "    store=\"roads2\",\n",
    "    configure=\"all\"\n",
    ")\n",
    "```"
   ]
  },
  {
   "cell_type": "markdown",
   "metadata": {},
   "source": [
    "## Adding a PostGIS database store\n",
    "\n",
    "Add an existing PostGIS database as a new store. The connection parameters available from the `docker-compose.yml` file are:\n",
    "\n",
    "- host: `postgis`\n",
    "- port: `5432`\n",
    "- database: `db`\n",
    "- user: `admin`\n",
    "- password: `postgres`\n",
    "- dbtype: `postgis`\n",
    "\n",
    "> **Note:** <br>\n",
    "> This example assumes that a PostGIS database named `db` is present on the local system and is accessible by the user `admin`."
   ]
  },
  {
   "cell_type": "code",
   "execution_count": 9,
   "metadata": {},
   "outputs": [
    {
     "data": {
      "text/plain": [
       "'Created'"
      ]
     },
     "execution_count": 9,
     "metadata": {},
     "output_type": "execute_result"
    }
   ],
   "source": [
    "# Using JSON format\n",
    "body = {\n",
    "    \"dataStore\": {\n",
    "        \"name\": \"db\",\n",
    "        \"description\": \"PostGIS connection\",\n",
    "        \"connectionParameters\": {\n",
    "            \"host\": \"postgis\",\n",
    "            \"port\": \"5432\",\n",
    "            \"database\": \"db\",\n",
    "            \"user\": \"admin\",\n",
    "            \"passwd\": \"postgres\",\n",
    "            \"dbtype\": \"postgis\",\n",
    "            \"schema\": \"public\",\n",
    "            \"Expose primary keys\": \"true\",\n",
    "            \"Loose bbox\": \"true\",\n",
    "            \"Estimated extends\": \"true\",\n",
    "            \"fetch size\": \"1000\",\n",
    "            \"Max open prepared statements\": \"50\",\n",
    "            \"preparedStatements\": \"false\",\n",
    "            \"validate connections\": \"true\",\n",
    "            \"validate connections on borrow\": \"true\",\n",
    "            \"validate connections on return\": \"true\",\n",
    "            \"Connection timeout\": \"20\",\n",
    "            \"Eviction run periodicity\": \"3600\",\n",
    "            \"Min evictable idle time\": \"300\",\n",
    "            \"Max active\": \"50\",\n",
    "            \"Max idle\": \"10\",\n",
    "            \"Max wait\": \"10000\",\n",
    "            \"Test on borrow\": \"true\",\n",
    "            \"Test while idle\": \"true\",\n",
    "            \"Time between eviction runs\": \"60000\",\n",
    "        }\n",
    "    }\n",
    "}\n",
    "\n",
    "# Using XML format\n",
    "body = \"\"\"\n",
    "<dataStore>\n",
    "    <name>db</name>\n",
    "    <description>PostGIS database</description>\n",
    "    <connectionParameters>\n",
    "        <entry key=\"host\">postgis</entry>\n",
    "        <entry key=\"port\">5432</entry>\n",
    "        <entry key=\"database\">db</entry>\n",
    "        <entry key=\"user\">admin</entry>\n",
    "        <entry key=\"passwd\">postgres</entry>\n",
    "        <entry key=\"dbtype\">postgis</entry>\n",
    "        <entry key=\"schema\">public</entry>\n",
    "        <entry key=\"Expose primary keys\">true</entry>\n",
    "        <entry key=\"Loose bbox\">true</entry>\n",
    "        <entry key=\"Estimated extends\">true</entry>\n",
    "        <entry key=\"fetch size\">1000</entry>\n",
    "        <entry key=\"Max open prepared statements\">50</entry>\n",
    "        <entry key=\"preparedStatements\">false</entry>\n",
    "        <entry key=\"validate connections\">true</entry>\n",
    "        <entry key=\"validate connections on borrow\">true</entry>\n",
    "        <entry key=\"validate connections on return\">true</entry>\n",
    "        <entry key=\"Connection timeout\">20</entry>\n",
    "        <entry key=\"Eviction run periodicity\">3600</entry>\n",
    "        <entry key=\"Min evictable idle time\">300</entry>\n",
    "        <entry key=\"Max active\">50</entry>\n",
    "        <entry key=\"Max idle\">10</entry>\n",
    "        <entry key=\"Max wait\">10000</entry>\n",
    "        <entry key=\"Test on borrow\">true</entry>\n",
    "        <entry key=\"Test while idle\">true</entry>\n",
    "        <entry key=\"Time between eviction runs\">60000</entry>\n",
    "    </connectionParameters>\n",
    "</dataStore>\n",
    "\"\"\"\n",
    "\n",
    "\n",
    "geoserver.create_data_store(workspace=\"demo\", body=body)"
   ]
  },
  {
   "cell_type": "markdown",
   "metadata": {},
   "source": [
    "## Listing a PostGIS database store details\n",
    "\n",
    "Retrieve information about a PostGIS store."
   ]
  },
  {
   "cell_type": "code",
   "execution_count": 10,
   "metadata": {},
   "outputs": [
    {
     "name": "stdout",
     "output_type": "stream",
     "text": [
      "<dataStore>\n",
      "  <name>db</name>\n",
      "  <description>PostGIS database</description>\n",
      "  <type>PostGIS</type>\n",
      "  <enabled>true</enabled>\n",
      "  <workspace>\n",
      "    <name>demo</name>\n",
      "    <atom:link xmlns:atom=\"http://www.w3.org/2005/Atom\" rel=\"alternate\" href=\"http://localhost:8080/geoserver/rest/workspaces/demo.xml\" type=\"application/xml\"/>\n",
      "  </workspace>\n",
      "  <connectionParameters>\n",
      "    <entry key=\"schema\">public</entry>\n",
      "    <entry key=\"Max idle\">10</entry>\n",
      "    <entry key=\"Max open prepared statements\">50</entry>\n",
      "    <entry key=\"preparedStatements\">false</entry>\n",
      "    <entry key=\"database\">db</entry>\n",
      "    <entry key=\"validate connections on borrow\">true</entry>\n",
      "    <entry key=\"host\">postgis</entry>\n",
      "    <entry key=\"Loose bbox\">true</entry>\n",
      "    <entry key=\"Min evictable idle time\">300</entry>\n",
      "    <entry key=\"Estimated extends\">true</entry>\n",
      "    <entry key=\"fetch size\">1000</entry>\n",
      "    <entry key=\"Eviction run periodicity\">3600</entry>\n",
      "    <entry key=\"Expose primary keys\">true</entry>\n",
      "    <entry key=\"validate connections\">true</entry>\n",
      "    <entry key=\"Max wait\">10000</entry>\n",
      "    <entry key=\"Connection timeout\">20</entry>\n",
      "    <entry key=\"Time between eviction runs\">60000</entry>\n",
      "    <entry key=\"validate connections on return\">true</entry>\n",
      "    <entry key=\"Max active\">50</entry>\n",
      "    <entry key=\"port\">5432</entry>\n",
      "    <entry key=\"passwd\">crypt2:g6ZRMcxPCLjvdshMLYBbjAItuIIxYkr7ImO9nIGusVI=</entry>\n",
      "    <entry key=\"dbtype\">postgis</entry>\n",
      "    <entry key=\"namespace\">http://demo</entry>\n",
      "    <entry key=\"Test while idle\">true</entry>\n",
      "    <entry key=\"user\">admin</entry>\n",
      "    <entry key=\"Test on borrow\">true</entry>\n",
      "  </connectionParameters>\n",
      "  <__default>false</__default>\n",
      "  <dateCreated>2024-06-05 22:59:52.653 UTC</dateCreated>\n",
      "  <disableOnConnFailure>false</disableOnConnFailure>\n",
      "  <featureTypes>\n",
      "    <atom:link xmlns:atom=\"http://www.w3.org/2005/Atom\" rel=\"alternate\" href=\"http://localhost:8080/geoserver/rest/workspaces/demo/datastores/db/featuretypes.xml\" type=\"application/xml\"/>\n",
      "  </featureTypes>\n",
      "</dataStore>\n"
     ]
    }
   ],
   "source": [
    "xml = geoserver.get_data_store(workspace=\"demo\", store=\"db\", format=\"xml\")\n",
    "print(xml)"
   ]
  },
  {
   "cell_type": "markdown",
   "metadata": {},
   "source": [
    "## Publishing a table from an existing PostGIS store\n",
    "\n",
    "Publish a new featuretype from a PostGIS store table `buildings`.\n",
    "\n",
    "> **Note:** <br>\n",
    "> This example assumes the table has already been created. You can create the table using the following command:\n",
    "> ```bash\n",
    "> ogr2ogr -f PostgreSQL PG:\"host=localhost port=5432 user=admin dbname=db password=postgres\" examples/vectors/jamoat-db.shp -nlt PROMOTE_TO_MULTI -lco OVERWRITE=YES\n",
    "> ```"
   ]
  },
  {
   "cell_type": "code",
   "execution_count": 11,
   "metadata": {},
   "outputs": [],
   "source": [
    "!ogr2ogr -f PostgreSQL PG:\"host=localhost port=5432 user=admin dbname=db password=postgres\" ../examples/vectors/jamoat-db.shp -nlt PROMOTE_TO_MULTI -lco OVERWRITE=YES"
   ]
  },
  {
   "cell_type": "code",
   "execution_count": 12,
   "metadata": {},
   "outputs": [
    {
     "data": {
      "text/plain": [
       "'Created'"
      ]
     },
     "execution_count": 12,
     "metadata": {},
     "output_type": "execute_result"
    }
   ],
   "source": [
    "# Using JSON format\n",
    "body = {\n",
    "    \"featureType\": {\n",
    "        \"name\": \"jamoat_db\",\n",
    "        \"title\": \"jamoat_db\",\n",
    "        \"advertised\": \"true\",\n",
    "    }\n",
    "}\n",
    "\n",
    "# Using XML format\n",
    "body = \"\"\"\n",
    "<featureType>\n",
    "    <name>jamoat_db</name>\n",
    "    <title>jamoat_db</title>\n",
    "    <advertised>true</advertised>\n",
    "</featureType>\n",
    "\"\"\"\n",
    "\n",
    "\n",
    "geoserver.create_feature_type(workspace=\"demo\", store=\"db\", body=body)"
   ]
  },
  {
   "cell_type": "markdown",
   "metadata": {},
   "source": [
    "> **Note:** <br>\n",
    "> This layer can viewed with a WMS GetMap request at the following URL:\n",
    "> ```\n",
    "> http://localhost:8080/geoserver/wms/reflect?layers=demo:jamoat_db\n",
    "> ```"
   ]
  },
  {
   "cell_type": "markdown",
   "metadata": {},
   "source": [
    "## Creating a PostGIS table\n",
    "\n",
    "Create a new featuretype in GeoServer and simultaneously create a table in PostGIS.\n",
    "\n",
    "> **Note:** <br>\n",
    "> The `db` store must be a PostGIS store for this to succeed."
   ]
  },
  {
   "cell_type": "code",
   "execution_count": 13,
   "metadata": {},
   "outputs": [],
   "source": [
    "# Using XML format\n",
    "body = \"\"\"\n",
    "<featureType>\n",
    "  <name>annotations</name>\n",
    "  <nativeName>annotations</nativeName>\n",
    "  <title>Annotations</title>\n",
    "  <srs>EPSG:4326</srs>\n",
    "  <attributes>\n",
    "    <attribute>\n",
    "      <name>the_geom</name>\n",
    "      <binding>org.locationtech.jts.geom.Point</binding>\n",
    "    </attribute>\n",
    "    <attribute>\n",
    "      <name>description</name>\n",
    "      <binding>java.lang.String</binding>\n",
    "    </attribute>\n",
    "    <attribute>\n",
    "      <name>timestamp</name>\n",
    "      <binding>java.util.Date</binding>\n",
    "    </attribute>\n",
    "  </attributes>\n",
    "</featureType>\n",
    "\"\"\"\n",
    "\n",
    "\n",
    "try:\n",
    "  geoserver.create_feature_type(workspace=\"demo\", store=\"db\", body=body)\n",
    "except GeoServerError as e:\n",
    "  if e.status_code == 500:\n",
    "    print(f\"[WARNING] Could not add featuretype: {e}\")\n",
    "    print(\"[WARNING] It is possible that the featuretype already exists in the database.\")"
   ]
  },
  {
   "cell_type": "markdown",
   "metadata": {},
   "source": [
    "A new and empty table named `annotations` in the `db` database will be created as well."
   ]
  },
  {
   "cell_type": "markdown",
   "metadata": {},
   "source": [
    "## Adding an external WMTS Store\n",
    "\n",
    "Create a new WMTS store `Basemap-Nat-Geo-Datastore`."
   ]
  },
  {
   "cell_type": "code",
   "execution_count": 14,
   "metadata": {},
   "outputs": [
    {
     "data": {
      "text/plain": [
       "'Created'"
      ]
     },
     "execution_count": 14,
     "metadata": {},
     "output_type": "execute_result"
    }
   ],
   "source": [
    "# Using JSON format\n",
    "body = {\n",
    "    \"wmtsStore\": {\n",
    "        \"name\": \"basemap-nat-geo-datastore\",\n",
    "        \"description\": \"esri-street-map\",\n",
    "        \"capabilitiesURL\": \"https://services.arcgisonline.com/arcgis/rest/services/NatGeo_World_Map/MapServer/WMTS/1.0.0/WMTSCapabilities.xml\",\n",
    "        \"type\": \"WMTS\",\n",
    "    }\n",
    "}\n",
    "\n",
    "# Using XML format\n",
    "body = \"\"\"\n",
    "<wmtsStore>\n",
    "  <name>basemap-nat-geo-datastore</name>\n",
    "  <description>esri-street-map</description>\n",
    "  <capabilitiesURL>https://services.arcgisonline.com/arcgis/rest/services/NatGeo_World_Map/MapServer/WMTS/1.0.0/WMTSCapabilities.xml</capabilitiesURL>\n",
    "  <type>WMTS</type>\n",
    "</wmtsStore>\n",
    "\"\"\"\n",
    "\n",
    "\n",
    "geoserver.create_wmts_store(workspace=\"demo\", body=body)"
   ]
  },
  {
   "cell_type": "code",
   "execution_count": 15,
   "metadata": {},
   "outputs": [
    {
     "data": {
      "text/plain": [
       "{'layers': {'layer': [{'name': 'annotations',\n",
       "    'href': 'http://localhost:8080/geoserver/rest/workspaces/demo/layers/annotations.json'},\n",
       "   {'name': 'jamoat_db',\n",
       "    'href': 'http://localhost:8080/geoserver/rest/workspaces/demo/layers/jamoat_db.json'},\n",
       "   {'name': 'roads',\n",
       "    'href': 'http://localhost:8080/geoserver/rest/workspaces/demo/layers/roads.json'}]}}"
      ]
     },
     "execution_count": 15,
     "metadata": {},
     "output_type": "execute_result"
    }
   ],
   "source": [
    "geoserver.get_wmts_layers(workspace=\"demo\")"
   ]
  },
  {
   "cell_type": "markdown",
   "metadata": {},
   "source": [
    "## Adding an external WMTS Layer\n",
    "\n",
    "Publish a new WMTS Layer `NatGeo_World_Map` from the WMTS store `Basemap-Nat-Geo-Datastore`."
   ]
  },
  {
   "cell_type": "code",
   "execution_count": 16,
   "metadata": {},
   "outputs": [
    {
     "data": {
      "text/plain": [
       "'Created'"
      ]
     },
     "execution_count": 16,
     "metadata": {},
     "output_type": "execute_result"
    }
   ],
   "source": [
    "# Using JSON format\n",
    "body = {\n",
    "    \"wmtsLayer\": {\n",
    "        \"name\": \"NatGeo_World_Map\",\n",
    "    }\n",
    "}\n",
    "\n",
    "# Using XML format\n",
    "body = \"\"\"\n",
    "<wmtsLayer>\n",
    "  <name>NatGeo_World_Map</name>\n",
    "</wmtsLayer>\n",
    "\"\"\"\n",
    "\n",
    "\n",
    "geoserver.create_wmts_layer(workspace=\"demo\", store=\"basemap-nat-geo-datastore\", body=body)"
   ]
  },
  {
   "cell_type": "markdown",
   "metadata": {},
   "source": []
  }
 ],
 "metadata": {
  "kernelspec": {
   "display_name": ".venv",
   "language": "python",
   "name": "python3"
  },
  "language_info": {
   "codemirror_mode": {
    "name": "ipython",
    "version": 3
   },
   "file_extension": ".py",
   "mimetype": "text/x-python",
   "name": "python",
   "nbconvert_exporter": "python",
   "pygments_lexer": "ipython3",
   "version": "3.12.2"
  }
 },
 "nbformat": 4,
 "nbformat_minor": 2
}
