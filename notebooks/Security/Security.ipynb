{
 "cells": [
  {
   "cell_type": "markdown",
   "metadata": {},
   "source": [
    "# Security\n",
    "\n",
    "The REST API allows you to adjust GeoServer security settings.\n",
    "\n",
    "> **Note:** <br> \n",
    "> You can find the official example at [https://docs.geoserver.org/2.25.x/en/user/rest/security.html](https://docs.geoserver.org/2.25.x/en/user/rest/security.html)"
   ]
  },
  {
   "cell_type": "markdown",
   "metadata": {},
   "source": [
    "## Setup\n",
    "\n",
    "### Imports\n",
    "\n",
    "First, we need to import the necessary modules and classes."
   ]
  },
  {
   "cell_type": "code",
   "execution_count": 1,
   "metadata": {},
   "outputs": [],
   "source": [
    "from geoserver import GeoServer"
   ]
  },
  {
   "cell_type": "markdown",
   "metadata": {},
   "source": [
    "### GeoServer Connection\n",
    "\n",
    "Connect to the running GeoServer instance and create a workspace and a store."
   ]
  },
  {
   "cell_type": "code",
   "execution_count": 2,
   "metadata": {},
   "outputs": [],
   "source": [
    "# Setup the geoserver instance\n",
    "geoserver = GeoServer(\n",
    "    service_url=\"http://localhost:8080/geoserver\",\n",
    "    username=\"admin\",\n",
    "    password=\"geoserver\",\n",
    ")"
   ]
  },
  {
   "cell_type": "markdown",
   "metadata": {},
   "source": [
    "Let's clean up the security rules before we start."
   ]
  },
  {
   "cell_type": "code",
   "execution_count": 3,
   "metadata": {},
   "outputs": [],
   "source": [
    "if geoserver.security_layer_exists(rule=\"topp.*.r\"):\n",
    "    geoserver.delete_security_layer()\n",
    "    \n",
    "if geoserver.security_layer_exists(rule=\"topp.*.r\"):\n",
    "    geoserver.delete_security_layer(rule=\"topp.mylayer.w\")"
   ]
  },
  {
   "cell_type": "markdown",
   "metadata": {
    "vscode": {
     "languageId": "plaintext"
    }
   },
   "source": [
    "## Listing the keystore password\n",
    "\n",
    "Retrieve the keystore password for the “root” account."
   ]
  },
  {
   "cell_type": "code",
   "execution_count": 4,
   "metadata": {},
   "outputs": [
    {
     "data": {
      "text/plain": [
       "{'oldMasterPassword': 'geoserver'}"
      ]
     },
     "execution_count": 4,
     "metadata": {},
     "output_type": "execute_result"
    }
   ],
   "source": [
    "geoserver.get_master_password()"
   ]
  },
  {
   "cell_type": "markdown",
   "metadata": {},
   "source": [
    "## Changing the keystore password\n",
    "\n",
    "Change to a new keystore password.\n",
    "\n",
    "> **Note:** <br>\n",
    "> Requires knowledge of the current keystore password."
   ]
  },
  {
   "cell_type": "code",
   "execution_count": 5,
   "metadata": {},
   "outputs": [
    {
     "data": {
      "text/plain": [
       "'Updated'"
      ]
     },
     "execution_count": 5,
     "metadata": {},
     "output_type": "execute_result"
    }
   ],
   "source": [
    "# Using JSON format\n",
    "body = {\n",
    "    \"masterPassword\": {\n",
    "        \"oldMasterPassword\": \"geoserver\",\n",
    "        \"newMasterPassword\": \"geoserver2\",\n",
    "    }\n",
    "}\n",
    "\n",
    "# Using XML format\n",
    "body = \"\"\"\n",
    "<masterPassword>\n",
    "    <oldMasterPassword>geoserver</oldMasterPassword>\n",
    "    <newMasterPassword>geoserver2</newMasterPassword>\n",
    "</masterPassword>\n",
    "\"\"\"\n",
    "\n",
    "geoserver.update_master_password(body=body)"
   ]
  },
  {
   "cell_type": "code",
   "execution_count": 6,
   "metadata": {},
   "outputs": [
    {
     "data": {
      "text/plain": [
       "'Updated'"
      ]
     },
     "execution_count": 6,
     "metadata": {},
     "output_type": "execute_result"
    }
   ],
   "source": [
    "# Revert back to the original password\n",
    "body = \"\"\"\n",
    "<masterPassword>\n",
    "    <oldMasterPassword>geoserver2</oldMasterPassword>\n",
    "    <newMasterPassword>geoserver</newMasterPassword>\n",
    "</masterPassword>\n",
    "\"\"\"\n",
    "\n",
    "geoserver.update_master_password(body=body)"
   ]
  },
  {
   "cell_type": "markdown",
   "metadata": {},
   "source": [
    "## Listing the catalog mode\n",
    "\n",
    "Fetch the current catalog mode."
   ]
  },
  {
   "cell_type": "code",
   "execution_count": 7,
   "metadata": {},
   "outputs": [
    {
     "data": {
      "text/plain": [
       "{'mode': 'MIXED'}"
      ]
     },
     "execution_count": 7,
     "metadata": {},
     "output_type": "execute_result"
    }
   ],
   "source": [
    "geoserver.get_catalog_mode()"
   ]
  },
  {
   "cell_type": "markdown",
   "metadata": {},
   "source": [
    "## Changing the catalog mode\n",
    "\n",
    "Set a new catalog mode."
   ]
  },
  {
   "cell_type": "code",
   "execution_count": 8,
   "metadata": {},
   "outputs": [
    {
     "data": {
      "text/plain": [
       "'Updated'"
      ]
     },
     "execution_count": 8,
     "metadata": {},
     "output_type": "execute_result"
    }
   ],
   "source": [
    "# Using JSON format\n",
    "body = {\n",
    "    \"catalog\": {\n",
    "        \"mode\": \"HIDE\"\n",
    "    }\n",
    "}\n",
    "\n",
    "# Using XML format\n",
    "body = \"\"\"\n",
    "<catalog>\n",
    "    <mode>HIDE</mode>\n",
    "</catalog>\n",
    "\"\"\"\n",
    "\n",
    "geoserver.update_catalog_mode(body=body)"
   ]
  },
  {
   "cell_type": "markdown",
   "metadata": {},
   "source": [
    "## Listing access control rules\n",
    "\n",
    "Retrieve current list of access control rules."
   ]
  },
  {
   "cell_type": "code",
   "execution_count": 9,
   "metadata": {},
   "outputs": [
    {
     "data": {
      "text/plain": [
       "{'*.*.r': '*', '*.*.w': 'GROUP_ADMIN,ADMIN'}"
      ]
     },
     "execution_count": 9,
     "metadata": {},
     "output_type": "execute_result"
    }
   ],
   "source": [
    "geoserver.get_security_layers()"
   ]
  },
  {
   "cell_type": "markdown",
   "metadata": {},
   "source": [
    "## Changing access control rules\n",
    "\n",
    "Set a new list of access control rules."
   ]
  },
  {
   "cell_type": "code",
   "execution_count": 10,
   "metadata": {},
   "outputs": [
    {
     "data": {
      "text/plain": [
       "'Created'"
      ]
     },
     "execution_count": 10,
     "metadata": {},
     "output_type": "execute_result"
    }
   ],
   "source": [
    "# Using JSON format\n",
    "body = {\n",
    "    \"rules\": [\n",
    "        {\"resource\": \"topp.*.r\", \"auth\": \"ROLE_AUTHORIZED\"},\n",
    "        {\"resource\": \"topp.mylayer.w\", \"auth\": \"ROLE_1,ROLE_2\"},\n",
    "    ]\n",
    "}\n",
    "\n",
    "# Using XML format\n",
    "body = \"\"\"\n",
    "<rules>\n",
    "   <rule resource=\"topp.*.r\">ROLE_AUTHORIZED</rule>\n",
    "   <rule resource=\"topp.mylayer.w\">ROLE_1,ROLE_2</rule>\n",
    "</rules>\n",
    "\"\"\"\n",
    "\n",
    "geoserver.create_security_layers(body=body)"
   ]
  },
  {
   "cell_type": "markdown",
   "metadata": {},
   "source": [
    "## Deleting access control rules\n",
    "\n",
    "Delete individual access control rule."
   ]
  },
  {
   "cell_type": "code",
   "execution_count": 11,
   "metadata": {},
   "outputs": [
    {
     "data": {
      "text/plain": [
       "'Deleted'"
      ]
     },
     "execution_count": 11,
     "metadata": {},
     "output_type": "execute_result"
    }
   ],
   "source": [
    "geoserver.delete_security_layer(rule=\"topp.*.r\")\n",
    "geoserver.delete_security_layer(rule=\"topp.mylayer.w\")"
   ]
  }
 ],
 "metadata": {
  "kernelspec": {
   "display_name": ".venv",
   "language": "python",
   "name": "python3"
  },
  "language_info": {
   "codemirror_mode": {
    "name": "ipython",
    "version": 3
   },
   "file_extension": ".py",
   "mimetype": "text/x-python",
   "name": "python",
   "nbconvert_exporter": "python",
   "pygments_lexer": "ipython3",
   "version": "3.12.2"
  }
 },
 "nbformat": 4,
 "nbformat_minor": 2
}
